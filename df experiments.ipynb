{
 "cells": [
  {
   "cell_type": "code",
   "execution_count": 1,
   "metadata": {},
   "outputs": [],
   "source": [
    "import pandas as pd\n",
    "import matplotlib.pyplot as plt\n",
    "#https://www.shanelynn.ie/using-pandas-dataframe-creating-editing-viewing-data-in-python/"
   ]
  },
  {
   "cell_type": "code",
   "execution_count": 3,
   "metadata": {},
   "outputs": [],
   "source": [
    "df = pd.read_csv(\"http://portal.amfiindia.com/DownloadNAVHistoryReport_Po.aspx?mf=22&tp=1&frmdt=01-Feb-2020&todt=12-Apr-2020\")"
   ]
  },
  {
   "cell_type": "code",
   "execution_count": 4,
   "metadata": {},
   "outputs": [
    {
     "name": "stdout",
     "output_type": "stream",
     "text": [
      "<class 'pandas.core.frame.DataFrame'>\n"
     ]
    }
   ],
   "source": [
    "print(type(df))"
   ]
  },
  {
   "cell_type": "code",
   "execution_count": 5,
   "metadata": {},
   "outputs": [
    {
     "name": "stdout",
     "output_type": "stream",
     "text": [
      "      Scheme Code;Scheme Name;ISIN Div Payout/ISIN Growth;ISIN Div Reinvestment;Net Asset Value;Repurchase Price;Sale Price;Date\n",
      "0      Open Ended Schemes ( Equity Scheme - Multi Cap...                                                                        \n",
      "1                                        SBI Mutual Fund                                                                        \n",
      "2      119718;SBI Magnum Multicap Fund - DIRECT PLAN ...                                                                        \n",
      "3      119718;SBI Magnum Multicap Fund - DIRECT PLAN ...                                                                        \n",
      "4      119718;SBI Magnum Multicap Fund - DIRECT PLAN ...                                                                        \n",
      "...                                                  ...                                                                        \n",
      "10552  119788;SBI GOLD FUND- DIRECT PLAN - GROWTH;INF...                                                                        \n",
      "10553  119788;SBI GOLD FUND- DIRECT PLAN - GROWTH;INF...                                                                        \n",
      "10554  119788;SBI GOLD FUND- DIRECT PLAN - GROWTH;INF...                                                                        \n",
      "10555  119788;SBI GOLD FUND- DIRECT PLAN - GROWTH;INF...                                                                        \n",
      "10556  119788;SBI GOLD FUND- DIRECT PLAN - GROWTH;INF...                                                                        \n",
      "\n",
      "[10557 rows x 1 columns]\n"
     ]
    }
   ],
   "source": [
    "print(df)"
   ]
  },
  {
   "cell_type": "code",
   "execution_count": 6,
   "metadata": {},
   "outputs": [
    {
     "data": {
      "text/html": [
       "<div>\n",
       "<style scoped>\n",
       "    .dataframe tbody tr th:only-of-type {\n",
       "        vertical-align: middle;\n",
       "    }\n",
       "\n",
       "    .dataframe tbody tr th {\n",
       "        vertical-align: top;\n",
       "    }\n",
       "\n",
       "    .dataframe thead th {\n",
       "        text-align: right;\n",
       "    }\n",
       "</style>\n",
       "<table border=\"1\" class=\"dataframe\">\n",
       "  <thead>\n",
       "    <tr style=\"text-align: right;\">\n",
       "      <th></th>\n",
       "      <th>Scheme Code;Scheme Name;ISIN Div Payout/ISIN Growth;ISIN Div Reinvestment;Net Asset Value;Repurchase Price;Sale Price;Date</th>\n",
       "    </tr>\n",
       "  </thead>\n",
       "  <tbody>\n",
       "    <tr>\n",
       "      <th>0</th>\n",
       "      <td>Open Ended Schemes ( Equity Scheme - Multi Cap...</td>\n",
       "    </tr>\n",
       "    <tr>\n",
       "      <th>1</th>\n",
       "      <td>SBI Mutual Fund</td>\n",
       "    </tr>\n",
       "    <tr>\n",
       "      <th>2</th>\n",
       "      <td>119718;SBI Magnum Multicap Fund - DIRECT PLAN ...</td>\n",
       "    </tr>\n",
       "    <tr>\n",
       "      <th>3</th>\n",
       "      <td>119718;SBI Magnum Multicap Fund - DIRECT PLAN ...</td>\n",
       "    </tr>\n",
       "    <tr>\n",
       "      <th>4</th>\n",
       "      <td>119718;SBI Magnum Multicap Fund - DIRECT PLAN ...</td>\n",
       "    </tr>\n",
       "  </tbody>\n",
       "</table>\n",
       "</div>"
      ],
      "text/plain": [
       "  Scheme Code;Scheme Name;ISIN Div Payout/ISIN Growth;ISIN Div Reinvestment;Net Asset Value;Repurchase Price;Sale Price;Date\n",
       "0  Open Ended Schemes ( Equity Scheme - Multi Cap...                                                                        \n",
       "1                                    SBI Mutual Fund                                                                        \n",
       "2  119718;SBI Magnum Multicap Fund - DIRECT PLAN ...                                                                        \n",
       "3  119718;SBI Magnum Multicap Fund - DIRECT PLAN ...                                                                        \n",
       "4  119718;SBI Magnum Multicap Fund - DIRECT PLAN ...                                                                        "
      ]
     },
     "execution_count": 6,
     "metadata": {},
     "output_type": "execute_result"
    }
   ],
   "source": [
    "df.head()"
   ]
  },
  {
   "cell_type": "code",
   "execution_count": 7,
   "metadata": {},
   "outputs": [
    {
     "name": "stdout",
     "output_type": "stream",
     "text": [
      "      Scheme Code;Scheme Name;ISIN Div Payout/ISIN Growth;ISIN Div Reinvestment;Net Asset Value;Repurchase Price;Sale Price;Date\n",
      "10552  119788;SBI GOLD FUND- DIRECT PLAN - GROWTH;INF...                                                                        \n",
      "10553  119788;SBI GOLD FUND- DIRECT PLAN - GROWTH;INF...                                                                        \n",
      "10554  119788;SBI GOLD FUND- DIRECT PLAN - GROWTH;INF...                                                                        \n",
      "10555  119788;SBI GOLD FUND- DIRECT PLAN - GROWTH;INF...                                                                        \n",
      "10556  119788;SBI GOLD FUND- DIRECT PLAN - GROWTH;INF...                                                                        \n"
     ]
    }
   ],
   "source": [
    "print(df.tail())"
   ]
  },
  {
   "cell_type": "code",
   "execution_count": 1,
   "metadata": {},
   "outputs": [],
   "source": [
    "import quandl as quandl"
   ]
  },
  {
   "cell_type": "code",
   "execution_count": 2,
   "metadata": {},
   "outputs": [],
   "source": [
    "df1 = quandl.get(\"AMFI/147006\")"
   ]
  },
  {
   "cell_type": "code",
   "execution_count": 3,
   "metadata": {},
   "outputs": [
    {
     "name": "stdout",
     "output_type": "stream",
     "text": [
      "            Net Asset Value Repurchase Price Sale Price\n",
      "Date                                                   \n",
      "2019-03-27        1000.1627             None       None\n",
      "2019-03-28        1000.3256             None       None\n",
      "2019-03-29        1000.5031             None       None\n",
      "2019-03-30        1000.6825             None       None\n",
      "2019-03-31        1000.8613             None       None\n",
      "...                     ...              ...        ...\n",
      "2020-04-07        1001.0366             None       None\n",
      "2020-04-08        1001.0962             None       None\n",
      "2020-04-09        1001.1637             None       None\n",
      "2020-04-10        1001.2321             None       None\n",
      "2020-04-12        1001.3689             None       None\n",
      "\n",
      "[285 rows x 3 columns]\n"
     ]
    }
   ],
   "source": [
    "print(df1)"
   ]
  },
  {
   "cell_type": "code",
   "execution_count": null,
   "metadata": {},
   "outputs": [],
   "source": []
  }
 ],
 "metadata": {
  "kernelspec": {
   "display_name": "Python 3",
   "language": "python",
   "name": "python3"
  },
  "language_info": {
   "codemirror_mode": {
    "name": "ipython",
    "version": 3
   },
   "file_extension": ".py",
   "mimetype": "text/x-python",
   "name": "python",
   "nbconvert_exporter": "python",
   "pygments_lexer": "ipython3",
   "version": "3.7.6"
  }
 },
 "nbformat": 4,
 "nbformat_minor": 4
}
