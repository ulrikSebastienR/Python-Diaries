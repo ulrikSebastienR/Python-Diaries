{
 "cells": [
  {
   "cell_type": "code",
   "execution_count": 1,
   "metadata": {},
   "outputs": [],
   "source": [
    "import pandas as pd"
   ]
  },
  {
   "cell_type": "code",
   "execution_count": 2,
   "metadata": {},
   "outputs": [
    {
     "name": "stdout",
     "output_type": "stream",
     "text": [
      "           Fund Category                        Fund Name  \\\n",
      "0     Diversified Equity                 HDFC Equity Fund   \n",
      "1     Diversified Equity                 HDFC Equity Fund   \n",
      "2     Diversified Equity  HDFC Mid-Cap Opportunities Fund   \n",
      "3     Diversified Equity  HDFC Mid-Cap Opportunities Fund   \n",
      "4     Diversified Equity              HDFC Small Cap Fund   \n",
      "...                  ...                              ...   \n",
      "1242         Close Ended    HDFC FMP 1120D March 2019 (1)   \n",
      "1243         Close Ended    HDFC FMP 1120D March 2019 (1)   \n",
      "1244         Close Ended     HDFC FMP 1118D March 2019 (1   \n",
      "1245         Close Ended    HDFC FMP 1100D April 2019 (1)   \n",
      "1246         Close Ended    HDFC FMP 1100D April 2019 (1)   \n",
      "\n",
      "                                            Scheme Name Dividend Date  \\\n",
      "0                           HDFC Equity Fund - Dividend  19 Mar, 2020   \n",
      "1             HDFC Equity Fund - Direct Plan - Dividend  19 Mar, 2020   \n",
      "2            HDFC Mid-Cap Opportunities Fund - Dividend  27 Feb, 2020   \n",
      "3     HDFC Mid-Cap Opportunities Fund - Direct Plan ...  27 Feb, 2020   \n",
      "4          HDFC Small Cap Fund - Direct Plan - Dividend  27 Mar, 2019   \n",
      "...                                                 ...           ...   \n",
      "1242  HDFC FMP 1120D March 2019 (1)-Quarterly Divide...  18 Mar, 2020   \n",
      "1243  HDFC FMP 1120D March 2019 (1)-Direct Plan-Quar...  18 Mar, 2020   \n",
      "1244  HDFC FMP 1118D March 2019 (1)-Quarterly Divide...  18 Mar, 2020   \n",
      "1245  HDFC FMP 1100D April 2019 (1)-Quarterly Divide...  18 Mar, 2020   \n",
      "1246  HDFC FMP 1100D April 2019 (1)-Direct Plan-Quar...  18 Mar, 2020   \n",
      "\n",
      "      Dividend Individual/ HUF (Rs) per Unit  Dividend Others (Rs) per Unit  \n",
      "0                                     4.2500                         4.2500  \n",
      "1                                     4.2500                         4.2500  \n",
      "2                                     2.5000                         2.5000  \n",
      "3                                     2.5000                         2.5000  \n",
      "4                                     0.9900                         0.9900  \n",
      "...                                      ...                            ...  \n",
      "1242                                  0.1207                         0.1117  \n",
      "1243                                  0.1334                         0.1235  \n",
      "1244                                  0.1287                         0.1192  \n",
      "1245                                  0.1174                         0.1087  \n",
      "1246                                  0.1269                         0.1175  \n",
      "\n",
      "[1247 rows x 6 columns]\n"
     ]
    }
   ],
   "source": [
    "df = pd.read_csv('Report_Dividend_as_on_06-Apr-2020.csv')\n",
    "print(df)"
   ]
  },
  {
   "cell_type": "code",
   "execution_count": 3,
   "metadata": {},
   "outputs": [],
   "source": [
    "df.to_excel('dividend_hdfc.xlsx')"
   ]
  },
  {
   "cell_type": "code",
   "execution_count": 4,
   "metadata": {},
   "outputs": [],
   "source": [
    "#dividend_hdfc = 'dividend_hdfc.xlsx'\n",
    "#print(dividend_hdfc) # this step is not needed and the file name can be directly provided as a string to the function as below."
   ]
  },
  {
   "cell_type": "code",
   "execution_count": 5,
   "metadata": {},
   "outputs": [
    {
     "name": "stdout",
     "output_type": "stream",
     "text": [
      "      Unnamed: 0       Fund Category                        Fund Name  \\\n",
      "0              0  Diversified Equity                 HDFC Equity Fund   \n",
      "1              1  Diversified Equity                 HDFC Equity Fund   \n",
      "2              2  Diversified Equity  HDFC Mid-Cap Opportunities Fund   \n",
      "3              3  Diversified Equity  HDFC Mid-Cap Opportunities Fund   \n",
      "4              4  Diversified Equity              HDFC Small Cap Fund   \n",
      "...          ...                 ...                              ...   \n",
      "1242        1242         Close Ended    HDFC FMP 1120D March 2019 (1)   \n",
      "1243        1243         Close Ended    HDFC FMP 1120D March 2019 (1)   \n",
      "1244        1244         Close Ended     HDFC FMP 1118D March 2019 (1   \n",
      "1245        1245         Close Ended    HDFC FMP 1100D April 2019 (1)   \n",
      "1246        1246         Close Ended    HDFC FMP 1100D April 2019 (1)   \n",
      "\n",
      "                                            Scheme Name Dividend Date  \\\n",
      "0                           HDFC Equity Fund - Dividend  19 Mar, 2020   \n",
      "1             HDFC Equity Fund - Direct Plan - Dividend  19 Mar, 2020   \n",
      "2            HDFC Mid-Cap Opportunities Fund - Dividend  27 Feb, 2020   \n",
      "3     HDFC Mid-Cap Opportunities Fund - Direct Plan ...  27 Feb, 2020   \n",
      "4          HDFC Small Cap Fund - Direct Plan - Dividend  27 Mar, 2019   \n",
      "...                                                 ...           ...   \n",
      "1242  HDFC FMP 1120D March 2019 (1)-Quarterly Divide...  18 Mar, 2020   \n",
      "1243  HDFC FMP 1120D March 2019 (1)-Direct Plan-Quar...  18 Mar, 2020   \n",
      "1244  HDFC FMP 1118D March 2019 (1)-Quarterly Divide...  18 Mar, 2020   \n",
      "1245  HDFC FMP 1100D April 2019 (1)-Quarterly Divide...  18 Mar, 2020   \n",
      "1246  HDFC FMP 1100D April 2019 (1)-Direct Plan-Quar...  18 Mar, 2020   \n",
      "\n",
      "      Dividend Individual/ HUF (Rs) per Unit  Dividend Others (Rs) per Unit  \n",
      "0                                     4.2500                         4.2500  \n",
      "1                                     4.2500                         4.2500  \n",
      "2                                     2.5000                         2.5000  \n",
      "3                                     2.5000                         2.5000  \n",
      "4                                     0.9900                         0.9900  \n",
      "...                                      ...                            ...  \n",
      "1242                                  0.1207                         0.1117  \n",
      "1243                                  0.1334                         0.1235  \n",
      "1244                                  0.1287                         0.1192  \n",
      "1245                                  0.1174                         0.1087  \n",
      "1246                                  0.1269                         0.1175  \n",
      "\n",
      "[1247 rows x 7 columns]\n"
     ]
    }
   ],
   "source": [
    "sheet_Dividend_Hdfc = pd.read_excel('dividend_hdfc.xlsx')\n",
    "print(sheet_Dividend_Hdfc)"
   ]
  },
  {
   "cell_type": "markdown",
   "metadata": {},
   "source": [
    "#Above method is correct and we couldn't use nesting of functions like below"
   ]
  },
  {
   "cell_type": "code",
   "execution_count": 6,
   "metadata": {},
   "outputs": [],
   "source": [
    "#sheet_dividend_hdfc = pd.read_excel(df.to_excel('dividend_hdfc.xlsx'))\n",
    "#print(sheet_dividend_hdfc)"
   ]
  },
  {
   "cell_type": "code",
   "execution_count": 7,
   "metadata": {},
   "outputs": [
    {
     "name": "stdout",
     "output_type": "stream",
     "text": [
      "Requirement already satisfied: xlrd in e:\\users\\sr\\anaconda3\\lib\\site-packages (1.2.0)\n",
      "Note: you may need to restart the kernel to use updated packages.\n"
     ]
    }
   ],
   "source": [
    "pip install xlrd\n"
   ]
  },
  {
   "cell_type": "code",
   "execution_count": 8,
   "metadata": {},
   "outputs": [
    {
     "name": "stdout",
     "output_type": "stream",
     "text": [
      "Requirement already satisfied: openpyxl in e:\\users\\sr\\anaconda3\\lib\\site-packages (3.0.3)\n",
      "Requirement already satisfied: et-xmlfile in e:\\users\\sr\\anaconda3\\lib\\site-packages (from openpyxl) (1.0.1)\n",
      "Requirement already satisfied: jdcal in e:\\users\\sr\\anaconda3\\lib\\site-packages (from openpyxl) (1.4.1)\n",
      "Note: you may need to restart the kernel to use updated packages.\n"
     ]
    }
   ],
   "source": [
    "pip install openpyxl"
   ]
  },
  {
   "cell_type": "code",
   "execution_count": null,
   "metadata": {},
   "outputs": [],
   "source": []
  }
 ],
 "metadata": {
  "kernelspec": {
   "display_name": "Python 3",
   "language": "python",
   "name": "python3"
  },
  "language_info": {
   "codemirror_mode": {
    "name": "ipython",
    "version": 3
   },
   "file_extension": ".py",
   "mimetype": "text/x-python",
   "name": "python",
   "nbconvert_exporter": "python",
   "pygments_lexer": "ipython3",
   "version": "3.7.6"
  }
 },
 "nbformat": 4,
 "nbformat_minor": 4
}
