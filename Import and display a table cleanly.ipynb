{
 "cells": [
  {
   "cell_type": "code",
   "execution_count": 1,
   "metadata": {},
   "outputs": [],
   "source": [
    "YT title: # Imorting HTML table into pandas"
   ]
  },
  {
   "cell_type": "code",
   "execution_count": 2,
   "metadata": {},
   "outputs": [],
   "source": [
    "#https://www.youtube.com/watch?v=VhPCnhYcklI"
   ]
  },
  {
   "cell_type": "code",
   "execution_count": 3,
   "metadata": {},
   "outputs": [],
   "source": [
    "import pandas as pd"
   ]
  },
  {
   "cell_type": "code",
   "execution_count": 13,
   "metadata": {},
   "outputs": [],
   "source": [
    "url = 'http://floodobservatory.colorado.edu/Archives/MasterListrev.htm'"
   ]
  },
  {
   "cell_type": "code",
   "execution_count": null,
   "metadata": {},
   "outputs": [],
   "source": [
    "#let's try with inputting the url directly into read_html function"
   ]
  },
  {
   "cell_type": "code",
   "execution_count": 14,
   "metadata": {},
   "outputs": [],
   "source": [
    "flood_table = pd.read_html('https://www.moneycontrol.com/mutual-funds/performance-tracker/returns/gilt-fund-with-10-year-constant-duration.html')"
   ]
  },
  {
   "cell_type": "code",
   "execution_count": 5,
   "metadata": {},
   "outputs": [
    {
     "name": "stdout",
     "output_type": "stream",
     "text": [
      "<class 'list'>\n"
     ]
    }
   ],
   "source": [
    "print(type(flood_table))"
   ]
  },
  {
   "cell_type": "code",
   "execution_count": 15,
   "metadata": {},
   "outputs": [
    {
     "name": "stdout",
     "output_type": "stream",
     "text": [
      "[                                         Scheme Name Crisil Rank  AuM (Cr)  \\\n",
      "0  IDFC G Sec Fund - Constant Maturity Plan - Dir...           -    159.43   \n",
      "1  IDFC G Sec Fund - Constant Maturity Plan - Reg...           -    159.43   \n",
      "2  ICICI Prudential Constant Maturity Gilt Fund -...           -     98.62   \n",
      "3  ICICI Prudential Constant Maturity Gilt Fund -...           -     98.62   \n",
      "4  SBI Magnum Constant Maturity Fund - Direct Pla...           -    550.68   \n",
      "5  DSP 10Y G-Sec Fund - Direct Plan - GrowthGilt ...           -     43.99   \n",
      "6  SBI Magnum Constant Maturity Fund - GrowthGilt...           -    550.68   \n",
      "7  DSP 10Y G-Sec Fund - Regular Plan - GrowthGilt...           -     43.99   \n",
      "\n",
      "       1W      1M     3M     6M    YTD      1Y      2Y      3Y      5Y    10Y  \n",
      "0  -1.26%  -1.51%  2.69%  4.36%  2.75%  14.77%  13.06%  11.32%  10.34%      -  \n",
      "1  -1.26%  -1.53%  2.66%  4.29%  2.71%  14.63%  12.94%  11.20%  10.20%  9.00%  \n",
      "2  -1.13%  -1.45%  2.81%  4.08%  2.76%  14.32%  11.38%   9.99%   9.74%      -  \n",
      "3  -1.13%  -1.46%  2.77%  3.99%  2.71%  14.10%  11.14%   9.76%   9.47%      -  \n",
      "4  -1.31%  -1.55%  2.33%  3.55%  2.31%  13.25%  11.59%   9.88%  10.18%      -  \n",
      "5  -1.05%  -1.32%  2.66%  4.06%  2.80%  12.94%   8.91%   7.59%   8.48%      -  \n",
      "6  -1.32%  -1.57%  2.26%  3.40%  2.23%  12.92%  11.23%   9.52%   9.81%  9.40%  \n",
      "7  -1.05%  -1.33%  2.61%  3.95%  2.76%  12.68%   8.66%   7.33%   8.21%      -  ]\n"
     ]
    }
   ],
   "source": [
    "print(flood_table)\n"
   ]
  },
  {
   "cell_type": "code",
   "execution_count": 16,
   "metadata": {},
   "outputs": [
    {
     "name": "stdout",
     "output_type": "stream",
     "text": [
      "                                         Scheme Name Crisil Rank  AuM (Cr)  \\\n",
      "0  IDFC G Sec Fund - Constant Maturity Plan - Dir...           -    159.43   \n",
      "1  IDFC G Sec Fund - Constant Maturity Plan - Reg...           -    159.43   \n",
      "2  ICICI Prudential Constant Maturity Gilt Fund -...           -     98.62   \n",
      "3  ICICI Prudential Constant Maturity Gilt Fund -...           -     98.62   \n",
      "4  SBI Magnum Constant Maturity Fund - Direct Pla...           -    550.68   \n",
      "5  DSP 10Y G-Sec Fund - Direct Plan - GrowthGilt ...           -     43.99   \n",
      "6  SBI Magnum Constant Maturity Fund - GrowthGilt...           -    550.68   \n",
      "7  DSP 10Y G-Sec Fund - Regular Plan - GrowthGilt...           -     43.99   \n",
      "\n",
      "       1W      1M     3M     6M    YTD      1Y      2Y      3Y      5Y    10Y  \n",
      "0  -1.26%  -1.51%  2.69%  4.36%  2.75%  14.77%  13.06%  11.32%  10.34%      -  \n",
      "1  -1.26%  -1.53%  2.66%  4.29%  2.71%  14.63%  12.94%  11.20%  10.20%  9.00%  \n",
      "2  -1.13%  -1.45%  2.81%  4.08%  2.76%  14.32%  11.38%   9.99%   9.74%      -  \n",
      "3  -1.13%  -1.46%  2.77%  3.99%  2.71%  14.10%  11.14%   9.76%   9.47%      -  \n",
      "4  -1.31%  -1.55%  2.33%  3.55%  2.31%  13.25%  11.59%   9.88%  10.18%      -  \n",
      "5  -1.05%  -1.32%  2.66%  4.06%  2.80%  12.94%   8.91%   7.59%   8.48%      -  \n",
      "6  -1.32%  -1.57%  2.26%  3.40%  2.23%  12.92%  11.23%   9.52%   9.81%  9.40%  \n",
      "7  -1.05%  -1.33%  2.61%  3.95%  2.76%  12.68%   8.66%   7.33%   8.21%      -  \n"
     ]
    }
   ],
   "source": [
    "print(flood_table[0])"
   ]
  },
  {
   "cell_type": "code",
   "execution_count": null,
   "metadata": {},
   "outputs": [],
   "source": []
  }
 ],
 "metadata": {
  "kernelspec": {
   "display_name": "Python 3",
   "language": "python",
   "name": "python3"
  },
  "language_info": {
   "codemirror_mode": {
    "name": "ipython",
    "version": 3
   },
   "file_extension": ".py",
   "mimetype": "text/x-python",
   "name": "python",
   "nbconvert_exporter": "python",
   "pygments_lexer": "ipython3",
   "version": "3.7.6"
  }
 },
 "nbformat": 4,
 "nbformat_minor": 4
}
