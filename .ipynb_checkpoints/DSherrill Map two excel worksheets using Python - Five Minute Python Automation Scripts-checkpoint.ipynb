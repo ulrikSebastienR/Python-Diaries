{
 "cells": [
  {
   "cell_type": "markdown",
   "metadata": {},
   "source": [
    "trying out https://www.youtube.com/watch?v=OB_ixIlQbWI&list=LLNzsZNOL8ahph4IIYK2c9Pg&index=4&t=0s \n",
    "or Map two excel worksheets using Python - Five Minute Python Automation Scripts Derrick Sherrill"
   ]
  },
  {
   "cell_type": "code",
   "execution_count": 1,
   "metadata": {},
   "outputs": [],
   "source": [
    "import pandas as pd"
   ]
  },
  {
   "cell_type": "markdown",
   "metadata": {},
   "source": [
    "Assign a variable name to your excel file. Open Document Spreadsheets can't be opened. "
   ]
  },
  {
   "cell_type": "code",
   "execution_count": 2,
   "metadata": {},
   "outputs": [],
   "source": [
    "excel1 = 'worksheet1.xlsx' "
   ]
  },
  {
   "cell_type": "code",
   "execution_count": 3,
   "metadata": {},
   "outputs": [
    {
     "name": "stdout",
     "output_type": "stream",
     "text": [
      "worksheet1.xlsx\n"
     ]
    }
   ],
   "source": [
    "print(excel1)"
   ]
  },
  {
   "cell_type": "markdown",
   "metadata": {},
   "source": [
    "#rows1 = rows(excel1)"
   ]
  },
  {
   "cell_type": "markdown",
   "metadata": {},
   "source": [
    " #help(pd.Series.loc)"
   ]
  },
  {
   "cell_type": "code",
   "execution_count": 4,
   "metadata": {},
   "outputs": [],
   "source": [
    "excel2 = 'worksheet2.xlsx'"
   ]
  },
  {
   "cell_type": "code",
   "execution_count": 5,
   "metadata": {},
   "outputs": [
    {
     "data": {
      "text/plain": [
       "'worksheet2.xlsx'"
      ]
     },
     "execution_count": 5,
     "metadata": {},
     "output_type": "execute_result"
    }
   ],
   "source": [
    "excel2"
   ]
  },
  {
   "cell_type": "code",
   "execution_count": 6,
   "metadata": {},
   "outputs": [
    {
     "name": "stdout",
     "output_type": "stream",
     "text": [
      "Requirement already satisfied: xlrd in e:\\users\\sr\\anaconda3\\lib\\site-packages (1.2.0)\n",
      "Note: you may need to restart the kernel to use updated packages.\n"
     ]
    }
   ],
   "source": [
    "pip install xlrd\n"
   ]
  },
  {
   "cell_type": "code",
   "execution_count": 7,
   "metadata": {},
   "outputs": [],
   "source": [
    "df1 = pd.read_excel(excel1)"
   ]
  },
  {
   "cell_type": "code",
   "execution_count": 8,
   "metadata": {},
   "outputs": [
    {
     "name": "stdout",
     "output_type": "stream",
     "text": [
      "        Date           Fund Name   No.    Units  Invested\n",
      "0 2020-04-01       T 100 truncat   166   2.0000       500\n",
      "1 2020-04-02     Gold  Truncated   166      NaN       500\n",
      "2 2020-04-03      N 50 Truncated   166      NaN      1000\n",
      "3 2020-04-04              H N 50  1668      NaN      1500\n",
      "4 2020-04-05       H Gold growth  1668  14.5209       501\n",
      "5 2020-04-05       H Credit Risk  1668      NaN      1500\n",
      "6 2020-06-01  H Top 100 dividend  1668  29.9880       500\n"
     ]
    }
   ],
   "source": [
    "print(df1)"
   ]
  },
  {
   "cell_type": "code",
   "execution_count": 9,
   "metadata": {},
   "outputs": [
    {
     "name": "stdout",
     "output_type": "stream",
     "text": [
      "        Date  Current value     NAV  Initial Investment    Value\n",
      "0 2020-04-01            348   1.000                 348   401.76\n",
      "1 2020-04-02            475     NaN                 475   476.00\n",
      "2 2020-04-03           1911     NaN                1911  1411.00\n",
      "3 2020-04-04           1911     NaN                1911  1411.00\n",
      "4 2020-04-05            501  34.545                 501   501.00\n",
      "5 2020-04-05           1911     NaN                1911  1411.00\n",
      "6 2020-06-01            510  16.673                 510   510.00\n"
     ]
    }
   ],
   "source": [
    "df2 = pd.read_excel(excel2)\n",
    "print(df2)"
   ]
  },
  {
   "cell_type": "code",
   "execution_count": 10,
   "metadata": {},
   "outputs": [
    {
     "name": "stdout",
     "output_type": "stream",
     "text": [
      "        Date           Fund Name   No.    Units  Invested  Current value  \\\n",
      "0 2020-04-01       T 100 truncat   166   2.0000       500            348   \n",
      "1 2020-04-02     Gold  Truncated   166      NaN       500            475   \n",
      "2 2020-04-03      N 50 Truncated   166      NaN      1000           1911   \n",
      "3 2020-04-04              H N 50  1668      NaN      1500           1911   \n",
      "4 2020-04-05       H Gold growth  1668  14.5209       501            501   \n",
      "5 2020-04-05       H Gold growth  1668  14.5209       501           1911   \n",
      "6 2020-04-05       H Credit Risk  1668      NaN      1500            501   \n",
      "7 2020-04-05       H Credit Risk  1668      NaN      1500           1911   \n",
      "8 2020-06-01  H Top 100 dividend  1668  29.9880       500            510   \n",
      "\n",
      "      NAV  Initial Investment    Value  \n",
      "0   1.000                 348   401.76  \n",
      "1     NaN                 475   476.00  \n",
      "2     NaN                1911  1411.00  \n",
      "3     NaN                1911  1411.00  \n",
      "4  34.545                 501   501.00  \n",
      "5     NaN                1911  1411.00  \n",
      "6  34.545                 501   501.00  \n",
      "7     NaN                1911  1411.00  \n",
      "8  16.673                 510   510.00  \n"
     ]
    }
   ],
   "source": [
    "merge = pd.merge(df1,df2,on = \"Date\")\n",
    "print(merge)"
   ]
  },
  {
   "cell_type": "code",
   "execution_count": 11,
   "metadata": {},
   "outputs": [
    {
     "name": "stdout",
     "output_type": "stream",
     "text": [
      "output.xlsx\n"
     ]
    }
   ],
   "source": [
    "merge.to_excel(\"output.xlsx\")\n",
    "output_Sheet = \"output.xlsx\"\n",
    "print(output_Sheet)\n"
   ]
  },
  {
   "cell_type": "code",
   "execution_count": 12,
   "metadata": {},
   "outputs": [
    {
     "name": "stdout",
     "output_type": "stream",
     "text": [
      "Requirement already satisfied: openpyxl in e:\\users\\sr\\anaconda3\\lib\\site-packages (3.0.3)\n",
      "Requirement already satisfied: jdcal in e:\\users\\sr\\anaconda3\\lib\\site-packages (from openpyxl) (1.4.1)\n",
      "Requirement already satisfied: et-xmlfile in e:\\users\\sr\\anaconda3\\lib\\site-packages (from openpyxl) (1.0.1)\n",
      "Note: you may need to restart the kernel to use updated packages.\n"
     ]
    }
   ],
   "source": [
    "pip install openpyxl"
   ]
  },
  {
   "cell_type": "code",
   "execution_count": 13,
   "metadata": {},
   "outputs": [
    {
     "name": "stdout",
     "output_type": "stream",
     "text": [
      "   Unnamed: 0       Date           Fund Name   No.    Units  Invested  \\\n",
      "0           0 2020-04-01       T 100 truncat   166   2.0000       500   \n",
      "1           1 2020-04-02     Gold  Truncated   166      NaN       500   \n",
      "2           2 2020-04-03      N 50 Truncated   166      NaN      1000   \n",
      "3           3 2020-04-04              H N 50  1668      NaN      1500   \n",
      "4           4 2020-04-05       H Gold growth  1668  14.5209       501   \n",
      "5           5 2020-04-05       H Gold growth  1668  14.5209       501   \n",
      "6           6 2020-04-05       H Credit Risk  1668      NaN      1500   \n",
      "7           7 2020-04-05       H Credit Risk  1668      NaN      1500   \n",
      "8           8 2020-06-01  H Top 100 dividend  1668  29.9880       500   \n",
      "\n",
      "   Current value     NAV  Initial Investment    Value  \n",
      "0            348   1.000                 348   401.76  \n",
      "1            475     NaN                 475   476.00  \n",
      "2           1911     NaN                1911  1411.00  \n",
      "3           1911     NaN                1911  1411.00  \n",
      "4            501  34.545                 501   501.00  \n",
      "5           1911     NaN                1911  1411.00  \n",
      "6            501  34.545                 501   501.00  \n",
      "7           1911     NaN                1911  1411.00  \n",
      "8            510  16.673                 510   510.00  \n"
     ]
    }
   ],
   "source": [
    "df_Output = pd.read_excel(output_Sheet)\n",
    "print(df_Output)"
   ]
  },
  {
   "cell_type": "code",
   "execution_count": null,
   "metadata": {},
   "outputs": [],
   "source": []
  }
 ],
 "metadata": {
  "kernelspec": {
   "display_name": "Python 3",
   "language": "python",
   "name": "python3"
  },
  "language_info": {
   "codemirror_mode": {
    "name": "ipython",
    "version": 3
   },
   "file_extension": ".py",
   "mimetype": "text/x-python",
   "name": "python",
   "nbconvert_exporter": "python",
   "pygments_lexer": "ipython3",
   "version": "3.7.6"
  }
 },
 "nbformat": 4,
 "nbformat_minor": 4
}
