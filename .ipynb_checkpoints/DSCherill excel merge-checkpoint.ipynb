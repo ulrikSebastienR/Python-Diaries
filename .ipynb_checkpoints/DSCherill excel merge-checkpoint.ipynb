{
 "cells": [
  {
   "cell_type": "markdown",
   "metadata": {},
   "source": [
    "trying out https://www.youtube.com/watch?v=OB_ixIlQbWI&list=LLNzsZNOL8ahph4IIYK2c9Pg&index=4&t=0s \n",
    "or Map two excel worksheets using Python - Five Minute Python Automation Scripts Derrick Sherrill"
   ]
  },
  {
   "cell_type": "code",
   "execution_count": 1,
   "metadata": {},
   "outputs": [],
   "source": [
    "import pandas as pd"
   ]
  },
  {
   "cell_type": "markdown",
   "metadata": {},
   "source": [
    "Assign a variable name to your excel file. Open Document Spreadsheets can't be opened. "
   ]
  },
  {
   "cell_type": "code",
   "execution_count": 2,
   "metadata": {},
   "outputs": [],
   "source": [
    "excel1 = 'worksheet1.xlsx' "
   ]
  },
  {
   "cell_type": "code",
   "execution_count": 3,
   "metadata": {},
   "outputs": [
    {
     "name": "stdout",
     "output_type": "stream",
     "text": [
      "worksheet1.xlsx\n"
     ]
    }
   ],
   "source": [
    "print(excel1)"
   ]
  },
  {
   "cell_type": "markdown",
   "metadata": {},
   "source": [
    "#rows1 = rows(excel1)"
   ]
  },
  {
   "cell_type": "markdown",
   "metadata": {},
   "source": [
    " #help(pd.Series.loc)"
   ]
  },
  {
   "cell_type": "code",
   "execution_count": 4,
   "metadata": {},
   "outputs": [],
   "source": [
    "excel2 = 'worksheet2.xlsx'"
   ]
  },
  {
   "cell_type": "code",
   "execution_count": 5,
   "metadata": {},
   "outputs": [
    {
     "data": {
      "text/plain": [
       "'worksheet2.xlsx'"
      ]
     },
     "execution_count": 5,
     "metadata": {},
     "output_type": "execute_result"
    }
   ],
   "source": [
    "excel2"
   ]
  },
  {
   "cell_type": "code",
   "execution_count": 6,
   "metadata": {},
   "outputs": [
    {
     "name": "stdout",
     "output_type": "stream",
     "text": [
      "worksheetodf.xlsx\n"
     ]
    }
   ],
   "source": [
    "excel3 = 'worksheetodf.xlsx'\n",
    "print(excel3)"
   ]
  },
  {
   "cell_type": "code",
   "execution_count": 7,
   "metadata": {},
   "outputs": [
    {
     "name": "stdout",
     "output_type": "stream",
     "text": [
      "Requirement already satisfied: xlrd in c:\\users\\sr\\anaconda3\\lib\\site-packages (1.2.0)\n",
      "Note: you may need to restart the kernel to use updated packages.\n"
     ]
    }
   ],
   "source": [
    "pip install xlrd\n"
   ]
  },
  {
   "cell_type": "code",
   "execution_count": 8,
   "metadata": {},
   "outputs": [],
   "source": [
    "df1 = pd.read_excel(excel1)"
   ]
  },
  {
   "cell_type": "code",
   "execution_count": 9,
   "metadata": {},
   "outputs": [
    {
     "name": "stdout",
     "output_type": "stream",
     "text": [
      "         Date                Fund Name     No.    Units  Invested\n",
      "0  2020-04-01            T 100 truncat   166.0   2.0000     500.0\n",
      "1  2020-04-01          Gold  Truncated   166.0      NaN     500.0\n",
      "2  2020-04-01           N 50 Truncated   166.0      NaN    1000.0\n",
      "3  2020-04-01                   H N 50  1668.0      NaN    1500.0\n",
      "4  2020-04-01            H Gold growth  1668.0  14.5209     501.0\n",
      "5  2020-04-01            H Credit Risk  1668.0      NaN    1500.0\n",
      "6  2020-04-01       H Top 100 dividend  1668.0  29.9880     500.0\n",
      "7  2020-04-01               BN Index M  9101.0      NaN     500.0\n",
      "8  2020-04-01             NASDAQ 100 M  9101.0   0.0000     501.0\n",
      "9  2020-04-01           Mid Cap 150 Mo  9101.0      NaN     502.0\n",
      "10 2020-04-01             Healthcare D    70.0      NaN     500.0\n",
      "11 2020-04-01                D Equity     70.0      NaN     501.0\n",
      "12 2020-04-01     Banking & PSU Debt D    70.0      NaN     502.0\n",
      "13 2020-04-01                 Fr US op    22.0      NaN     501.0\n",
      "14 2020-04-01         S focused equity    23.0      NaN     500.0\n",
      "15 2020-04-01  S banking and financial    23.0      NaN       NaN\n",
      "16 2020-04-01                   S Gold    23.0      NaN       NaN\n",
      "17 2020-04-01        Large and mid cap     NaN      NaN     500.0\n",
      "18 2020-04-01              multi asset     NaN      NaN     500.0\n",
      "19 2020-04-01                small cap     NaN      NaN       NaN\n",
      "20 2020-04-01                  mid cap     NaN      NaN       NaN\n"
     ]
    }
   ],
   "source": [
    "print(df1)"
   ]
  },
  {
   "cell_type": "code",
   "execution_count": 10,
   "metadata": {},
   "outputs": [
    {
     "name": "stdout",
     "output_type": "stream",
     "text": [
      "         Date  Current value     NAV  Initial Investment    Value\n",
      "0  2020-04-01          348.0   1.000               348.0   401.76\n",
      "1  2020-04-01          475.0     NaN               475.0   476.00\n",
      "2  2020-04-01         1911.0     NaN              1911.0  1411.00\n",
      "3  2020-04-01         1911.0     NaN              1911.0  1411.00\n",
      "4  2020-04-01          501.0  34.545               501.0   501.00\n",
      "5  2020-04-01         1911.0     NaN              1911.0  1411.00\n",
      "6  2020-04-01          510.0  16.673               510.0   510.00\n",
      "7  2020-04-02          500.0     NaN               500.0   501.00\n",
      "8  2020-04-02          501.0  45.562                 NaN   502.00\n",
      "9  2020-04-02          510.0  67.350                 NaN   511.00\n",
      "10 2020-04-01          458.0     NaN               458.0   459.00\n",
      "11 2020-04-01          459.0     NaN               459.0   460.00\n",
      "12 2020-04-01          499.0     NaN               499.0   500.00\n",
      "13 2020-04-01          459.0     NaN               459.0   460.00\n",
      "14 2020-04-01            NaN     NaN                 0.0     1.00\n",
      "15 2020-04-01            0.0     NaN                 0.0     1.00\n",
      "16 2020-04-01            0.0     NaN                 0.0     1.00\n",
      "17 2020-04-01            0.0     NaN                 NaN     0.00\n",
      "18 2020-04-01            0.0     NaN                 NaN     0.00\n",
      "19 2020-04-01            0.0     NaN                 NaN     0.00\n",
      "20 2020-04-01            0.0     NaN                 NaN     0.00\n"
     ]
    }
   ],
   "source": [
    "df2 = pd.read_excel(excel2)\n",
    "print(df2)"
   ]
  },
  {
   "cell_type": "code",
   "execution_count": 11,
   "metadata": {},
   "outputs": [
    {
     "name": "stdout",
     "output_type": "stream",
     "text": [
      "         Date  Unnamed: 1   Units  Unnamed: 3  Unnamed: 4  \\\n",
      "0  2020-04-01       348.0   1.000       348.0      -98.24   \n",
      "1  2020-04-01       475.0     NaN       475.0      -24.00   \n",
      "2  2020-04-01      1911.0     NaN      1911.0      411.00   \n",
      "3  2020-04-01      1911.0     NaN      1911.0      -89.00   \n",
      "4  2020-04-01       501.0  34.545       501.0        0.00   \n",
      "5  2020-04-01      1911.0     NaN      1911.0      -89.00   \n",
      "6  2020-04-01       510.0  16.673       510.0       10.00   \n",
      "7  2020-04-03       500.0     NaN       500.0        1.00   \n",
      "8  2020-04-03       501.0  45.562         NaN        1.00   \n",
      "9  2020-04-03       510.0  67.350         NaN        9.00   \n",
      "10 2020-03-17       458.0     NaN       458.0      -41.00   \n",
      "11 2020-03-17       459.0     NaN       459.0      -41.00   \n",
      "12 2020-03-17       499.0     NaN       499.0       -2.00   \n",
      "13 2020-03-17       459.0     NaN       459.0      -41.00   \n",
      "14 2020-03-21         NaN     NaN         0.0     -499.00   \n",
      "15 2020-04-04         0.0     NaN         0.0        1.00   \n",
      "16 2020-04-07         0.0     NaN         0.0        1.00   \n",
      "17 2020-02-28         0.0     NaN         NaN        0.00   \n",
      "18 2020-02-28         0.0     NaN         NaN        0.00   \n",
      "19 2020-02-28         0.0     NaN         NaN        0.00   \n",
      "20 2020-02-28         0.0     NaN         NaN        0.00   \n",
      "\n",
      "                  Fund Name     No. Unnamed: 7      NAV  Unnamed: 9 NAV*Units  \\\n",
      "0             T 100 truncat   166.0 2020-02-28   2.0000       500.0         2   \n",
      "1           Gold  Truncated   166.0 2020-03-13      NaN       500.0         0   \n",
      "2            N 50 Truncated   166.0 2020-03-16      NaN      1000.0         0   \n",
      "3                    H N 50  1668.0 2020-03-16      NaN      1500.0         0   \n",
      "4             H Gold growth  1668.0 2020-04-01  14.5209       501.0   501.624   \n",
      "5             H Credit Risk  1668.0 2020-03-30      NaN      1500.0         0   \n",
      "6        H Top 100 dividend  1668.0 2020-03-31  29.9880       500.0    499.99   \n",
      "7                BN Index M  9101.0 2020-03-18      NaN       500.0         0   \n",
      "8              NASDAQ 100 M  9101.0 2020-03-23   0.0000       501.0         0   \n",
      "9            Mid Cap 150 Mo  9101.0 2020-03-23      NaN       502.0         0   \n",
      "10             Healthcare D    70.0 2020-03-10      NaN       500.0         0   \n",
      "11                D Equity     70.0 2020-03-13      NaN       501.0         0   \n",
      "12     Banking & PSU Debt D    70.0 2020-03-13      NaN       502.0         0   \n",
      "13                 Fr US op    22.0 2020-03-13      NaN       501.0  00:00:00   \n",
      "14         S focused equity    23.0 2020-03-21      NaN       500.0         0   \n",
      "15  S banking and financial    23.0 2020-04-04      NaN         NaN         0   \n",
      "16                   S Gold    23.0 2020-04-07      NaN         NaN         0   \n",
      "17        Large and mid cap     NaN 2020-02-28      NaN       500.0       NaN   \n",
      "18              multi asset     NaN 2020-02-28      NaN       500.0       NaN   \n",
      "19                small cap     NaN 2020-02-28      NaN         NaN       NaN   \n",
      "20                  mid cap     NaN 2020-02-28      NaN         NaN       NaN   \n",
      "\n",
      "    Unnamed: 11 Nominee  Unnamed: 13  Unnamed: 14  \n",
      "0           NaN    Mini          500        348.0  \n",
      "1           NaN    Mini          500        475.0  \n",
      "2           NaN    Mini         1000       1911.0  \n",
      "3           NaN    Mini         1500       1911.0  \n",
      "4           NaN    Mini          501        501.0  \n",
      "5           NaN    Mini         1500       1911.0  \n",
      "6           NaN    Mini          500        510.0  \n",
      "7           NaN    Mini          500        500.0  \n",
      "8           NaN    Mini          501          0.0  \n",
      "9           NaN    Mini          502          0.0  \n",
      "10          NaN    Mini          500        458.0  \n",
      "11          NaN    Mini          501        459.0  \n",
      "12          NaN    Mini          502        499.0  \n",
      "13          NaN    Mini          501        459.0  \n",
      "14          NaN    Mini          500          0.0  \n",
      "15          NaN    Mini            0          0.0  \n",
      "16          NaN    Mini            0          0.0  \n",
      "17          NaN     NaN            0          NaN  \n",
      "18          NaN     NaN            0          NaN  \n",
      "19          NaN     NaN            0          NaN  \n",
      "20          NaN     NaN            0          NaN  \n"
     ]
    }
   ],
   "source": [
    "dforiginal = pd.read_excel(excel3)\n",
    "print(dforiginal)"
   ]
  },
  {
   "cell_type": "code",
   "execution_count": 12,
   "metadata": {},
   "outputs": [
    {
     "name": "stdout",
     "output_type": "stream",
     "text": [
      "          Date      Fund Name    No.  Units  Invested  Current value     NAV  \\\n",
      "0   2020-04-01  T 100 truncat  166.0    2.0     500.0          348.0   1.000   \n",
      "1   2020-04-01  T 100 truncat  166.0    2.0     500.0          475.0     NaN   \n",
      "2   2020-04-01  T 100 truncat  166.0    2.0     500.0         1911.0     NaN   \n",
      "3   2020-04-01  T 100 truncat  166.0    2.0     500.0         1911.0     NaN   \n",
      "4   2020-04-01  T 100 truncat  166.0    2.0     500.0          501.0  34.545   \n",
      "..         ...            ...    ...    ...       ...            ...     ...   \n",
      "373 2020-04-01        mid cap    NaN    NaN       NaN            0.0     NaN   \n",
      "374 2020-04-01        mid cap    NaN    NaN       NaN            0.0     NaN   \n",
      "375 2020-04-01        mid cap    NaN    NaN       NaN            0.0     NaN   \n",
      "376 2020-04-01        mid cap    NaN    NaN       NaN            0.0     NaN   \n",
      "377 2020-04-01        mid cap    NaN    NaN       NaN            0.0     NaN   \n",
      "\n",
      "     Initial Investment    Value  \n",
      "0                 348.0   401.76  \n",
      "1                 475.0   476.00  \n",
      "2                1911.0  1411.00  \n",
      "3                1911.0  1411.00  \n",
      "4                 501.0   501.00  \n",
      "..                  ...      ...  \n",
      "373                 0.0     1.00  \n",
      "374                 NaN     0.00  \n",
      "375                 NaN     0.00  \n",
      "376                 NaN     0.00  \n",
      "377                 NaN     0.00  \n",
      "\n",
      "[378 rows x 9 columns]\n"
     ]
    }
   ],
   "source": [
    "merge = pd.merge(df1,df2,on = \"Date\")\n",
    "print(merge)"
   ]
  },
  {
   "cell_type": "code",
   "execution_count": 18,
   "metadata": {},
   "outputs": [
    {
     "name": "stdout",
     "output_type": "stream",
     "text": [
      "output.xlsx\n"
     ]
    }
   ],
   "source": [
    "merge.to_excel(\"output.xlsx\")\n",
    "output_sheet = \"output.xlsx\"\n",
    "print(output_sheet)\n"
   ]
  },
  {
   "cell_type": "code",
   "execution_count": 15,
   "metadata": {},
   "outputs": [
    {
     "name": "stdout",
     "output_type": "stream",
     "text": [
      "Requirement already satisfied: openpyxl in c:\\users\\sr\\anaconda3\\lib\\site-packages (3.0.3)\n",
      "Requirement already satisfied: et-xmlfile in c:\\users\\sr\\anaconda3\\lib\\site-packages (from openpyxl) (1.0.1)\n",
      "Requirement already satisfied: jdcal in c:\\users\\sr\\anaconda3\\lib\\site-packages (from openpyxl) (1.4.1)\n",
      "Note: you may need to restart the kernel to use updated packages.\n"
     ]
    }
   ],
   "source": [
    "pip install openpyxl"
   ]
  },
  {
   "cell_type": "code",
   "execution_count": 21,
   "metadata": {},
   "outputs": [
    {
     "name": "stdout",
     "output_type": "stream",
     "text": [
      "     Unnamed: 0       Date      Fund Name    No.  Units  Invested  \\\n",
      "0             0 2020-04-01  T 100 truncat  166.0    2.0     500.0   \n",
      "1             1 2020-04-01  T 100 truncat  166.0    2.0     500.0   \n",
      "2             2 2020-04-01  T 100 truncat  166.0    2.0     500.0   \n",
      "3             3 2020-04-01  T 100 truncat  166.0    2.0     500.0   \n",
      "4             4 2020-04-01  T 100 truncat  166.0    2.0     500.0   \n",
      "..          ...        ...            ...    ...    ...       ...   \n",
      "373         373 2020-04-01        mid cap    NaN    NaN       NaN   \n",
      "374         374 2020-04-01        mid cap    NaN    NaN       NaN   \n",
      "375         375 2020-04-01        mid cap    NaN    NaN       NaN   \n",
      "376         376 2020-04-01        mid cap    NaN    NaN       NaN   \n",
      "377         377 2020-04-01        mid cap    NaN    NaN       NaN   \n",
      "\n",
      "     Current value     NAV  Initial Investment    Value  \n",
      "0            348.0   1.000               348.0   401.76  \n",
      "1            475.0     NaN               475.0   476.00  \n",
      "2           1911.0     NaN              1911.0  1411.00  \n",
      "3           1911.0     NaN              1911.0  1411.00  \n",
      "4            501.0  34.545               501.0   501.00  \n",
      "..             ...     ...                 ...      ...  \n",
      "373            0.0     NaN                 0.0     1.00  \n",
      "374            0.0     NaN                 NaN     0.00  \n",
      "375            0.0     NaN                 NaN     0.00  \n",
      "376            0.0     NaN                 NaN     0.00  \n",
      "377            0.0     NaN                 NaN     0.00  \n",
      "\n",
      "[378 rows x 10 columns]\n"
     ]
    }
   ],
   "source": [
    "dfoutput = pd.read_excel(output_sheet)\n",
    "print(dfoutput)"
   ]
  },
  {
   "cell_type": "code",
   "execution_count": null,
   "metadata": {},
   "outputs": [],
   "source": []
  }
 ],
 "metadata": {
  "kernelspec": {
   "display_name": "Python 3",
   "language": "python",
   "name": "python3"
  },
  "language_info": {
   "codemirror_mode": {
    "name": "ipython",
    "version": 3
   },
   "file_extension": ".py",
   "mimetype": "text/x-python",
   "name": "python",
   "nbconvert_exporter": "python",
   "pygments_lexer": "ipython3",
   "version": "3.7.6"
  }
 },
 "nbformat": 4,
 "nbformat_minor": 4
}
