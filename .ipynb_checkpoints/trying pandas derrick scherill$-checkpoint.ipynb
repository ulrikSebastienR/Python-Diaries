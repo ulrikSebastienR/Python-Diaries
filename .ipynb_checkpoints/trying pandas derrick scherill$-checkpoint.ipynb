{
 "cells": [
  {
   "cell_type": "markdown",
   "metadata": {},
   "source": [
    "trying out https://www.youtube.com/watch?v=OB_ixIlQbWI&list=LLNzsZNOL8ahph4IIYK2c9Pg&index=4&t=0s \n",
    "or Map two excel worksheets using Python - Five Minute Python Automation Scripts Derrick Sherrill"
   ]
  },
  {
   "cell_type": "code",
   "execution_count": 1,
   "metadata": {},
   "outputs": [],
   "source": [
    "import pandas as pd"
   ]
  },
  {
   "cell_type": "code",
   "execution_count": 2,
   "metadata": {},
   "outputs": [],
   "source": [
    "excel1 = 'worksheet1.xlsx' "
   ]
  },
  {
   "cell_type": "code",
   "execution_count": 3,
   "metadata": {},
   "outputs": [
    {
     "name": "stdout",
     "output_type": "stream",
     "text": [
      "worksheet1.xlsx\n"
     ]
    }
   ],
   "source": [
    "print(excel1)"
   ]
  },
  {
   "cell_type": "markdown",
   "metadata": {},
   "source": [
    "#rows1 = rows(excel1)"
   ]
  },
  {
   "cell_type": "markdown",
   "metadata": {},
   "source": [
    " #help(pd.Series.loc)"
   ]
  },
  {
   "cell_type": "code",
   "execution_count": 4,
   "metadata": {},
   "outputs": [],
   "source": [
    "excel2 = 'worksheet2.xlsx'"
   ]
  },
  {
   "cell_type": "code",
   "execution_count": 5,
   "metadata": {},
   "outputs": [
    {
     "data": {
      "text/plain": [
       "'worksheet2.xlsx'"
      ]
     },
     "execution_count": 5,
     "metadata": {},
     "output_type": "execute_result"
    }
   ],
   "source": [
    "excel2"
   ]
  },
  {
   "cell_type": "code",
   "execution_count": 16,
   "metadata": {},
   "outputs": [
    {
     "name": "stdout",
     "output_type": "stream",
     "text": [
      "worksheetodf.xlsx\n"
     ]
    }
   ],
   "source": [
    "excel3 = 'worksheetodf.xlsx'\n",
    "print(excel3)"
   ]
  },
  {
   "cell_type": "code",
   "execution_count": 7,
   "metadata": {},
   "outputs": [
    {
     "name": "stdout",
     "output_type": "stream",
     "text": [
      "Requirement already satisfied: xlrd in c:\\users\\sr\\anaconda3\\lib\\site-packages (1.2.0)\n",
      "Note: you may need to restart the kernel to use updated packages.\n"
     ]
    }
   ],
   "source": [
    "pip install xlrd\n"
   ]
  },
  {
   "cell_type": "code",
   "execution_count": 8,
   "metadata": {},
   "outputs": [],
   "source": [
    "df1 = pd.read_excel(excel1)"
   ]
  },
  {
   "cell_type": "code",
   "execution_count": 13,
   "metadata": {},
   "outputs": [
    {
     "name": "stdout",
     "output_type": "stream",
     "text": [
      "         Date                       Fund Name           No.     Gain  Invested\n",
      "0  2020-04-01          Top 100 HDFC truncated     h16646908   2.0000     500.0\n",
      "1  2020-04-01             Gold HDMF Truncated     h16646908      NaN     500.0\n",
      "2  2020-04-01         HDMF Nifty 50 Truncated     h16646908      NaN    1000.0\n",
      "3  2020-04-01                   HDMF Nifty 50     h16681096      NaN    1500.0\n",
      "4  2020-04-01                HDMF Gold growth  h16681096/79  14.5209     501.0\n",
      "5  2020-04-01                HDMF Credit Risk     h16681096      NaN    1500.0\n",
      "6  2020-04-01           HDMF Top 100 dividend  h16681096/79  29.9880     500.0\n",
      "7  2020-04-01  Bank Nifty Index Motilal Oswal   91014981246      NaN     500.0\n",
      "8  2020-04-01        NASDAQ 100 Motilal Oswal   91014981246   0.0000     501.0\n",
      "9  2020-04-01       Mid Cap 150 Motilal Oswal   91014981246      NaN     502.0\n",
      "10 2020-04-01                  Healthcare DSP      70020887      NaN     500.0\n",
      "11 2020-04-01                     DSP Equity       70020887      NaN     501.0\n",
      "12 2020-04-01          Banking & PSU Debt DSP      70020887      NaN     502.0\n",
      "13 2020-04-01       Franklin US opportunities      22401246      NaN     501.0\n",
      "14 2020-04-01              SBI focused equity      23748883      NaN     500.0\n",
      "15 2020-04-01       SBI banking and financial      23748883      NaN       NaN\n",
      "16 2020-04-01                        SBI Gold      23748883      NaN       NaN\n",
      "17 2020-04-01               Large and mid cap           NaN      NaN     500.0\n",
      "18 2020-04-01                     multi asset           NaN      NaN     500.0\n",
      "19 2020-04-01                       small cap           NaN      NaN       NaN\n",
      "20 2020-04-01                         mid cap           NaN      NaN       NaN\n"
     ]
    }
   ],
   "source": [
    "print(df1)"
   ]
  },
  {
   "cell_type": "code",
   "execution_count": 12,
   "metadata": {},
   "outputs": [
    {
     "name": "stdout",
     "output_type": "stream",
     "text": [
      "         Date  Current value     NAV  Initial Investment    Value\n",
      "0  2020-04-01          348.0   1.000               348.0   401.76\n",
      "1  2020-04-01          475.0     NaN               475.0   476.00\n",
      "2  2020-04-01         1911.0     NaN              1911.0  1411.00\n",
      "3  2020-04-01         1911.0     NaN              1911.0  1411.00\n",
      "4  2020-04-01          501.0  34.545               501.0   501.00\n",
      "5  2020-04-01         1911.0     NaN              1911.0  1411.00\n",
      "6  2020-04-01          510.0  16.673               510.0   510.00\n",
      "7  2020-04-02          500.0     NaN               500.0   501.00\n",
      "8  2020-04-02          501.0  45.562                 NaN   502.00\n",
      "9  2020-04-02          510.0  67.350                 NaN   511.00\n",
      "10 2020-04-01          458.0     NaN               458.0   459.00\n",
      "11 2020-04-01          459.0     NaN               459.0   460.00\n",
      "12 2020-04-01          499.0     NaN               499.0   500.00\n",
      "13 2020-04-01          459.0     NaN               459.0   460.00\n",
      "14 2020-04-01            NaN     NaN                 0.0     1.00\n",
      "15 2020-04-01            0.0     NaN                 0.0     1.00\n",
      "16 2020-04-01            0.0     NaN                 0.0     1.00\n",
      "17 2020-04-01            0.0     NaN                 NaN     0.00\n",
      "18 2020-04-01            0.0     NaN                 NaN     0.00\n",
      "19 2020-04-01            0.0     NaN                 NaN     0.00\n",
      "20 2020-04-01            0.0     NaN                 NaN     0.00\n"
     ]
    }
   ],
   "source": [
    "df2 = pd.read_excel(excel2)\n",
    "print(df2)"
   ]
  },
  {
   "cell_type": "code",
   "execution_count": 17,
   "metadata": {},
   "outputs": [
    {
     "name": "stdout",
     "output_type": "stream",
     "text": [
      "         Date  Unnamed: 1   Units  Unnamed: 3  Unnamed: 4  \\\n",
      "0  2020-04-01       348.0   1.000       348.0      -98.24   \n",
      "1  2020-04-01       475.0     NaN       475.0      -24.00   \n",
      "2  2020-04-01      1911.0     NaN      1911.0      411.00   \n",
      "3  2020-04-01      1911.0     NaN      1911.0      -89.00   \n",
      "4  2020-04-01       501.0  34.545       501.0        0.00   \n",
      "5  2020-04-01      1911.0     NaN      1911.0      -89.00   \n",
      "6  2020-04-01       510.0  16.673       510.0       10.00   \n",
      "7  2020-04-02       500.0     NaN       500.0        1.00   \n",
      "8  2020-04-02       501.0  45.562         NaN        1.00   \n",
      "9  2020-04-02       510.0  67.350         NaN        9.00   \n",
      "10 2020-03-17       458.0     NaN       458.0      -41.00   \n",
      "11 2020-03-17       459.0     NaN       459.0      -41.00   \n",
      "12 2020-03-17       499.0     NaN       499.0       -2.00   \n",
      "13 2020-03-17       459.0     NaN       459.0      -41.00   \n",
      "14 2020-03-21         NaN     NaN         0.0     -499.00   \n",
      "15 2020-04-04         0.0     NaN         0.0        1.00   \n",
      "16 2020-04-07         0.0     NaN         0.0        1.00   \n",
      "17 2020-02-28         0.0     NaN         NaN        0.00   \n",
      "18 2020-02-28         0.0     NaN         NaN        0.00   \n",
      "19 2020-02-28         0.0     NaN         NaN        0.00   \n",
      "20 2020-02-28         0.0     NaN         NaN        0.00   \n",
      "\n",
      "                         Fund Name           No. Unnamed: 7      NAV  \\\n",
      "0           Top 100 HDFC truncated     h16646908 2020-02-28   2.0000   \n",
      "1              Gold HDMF Truncated     h16646908 2020-03-13      NaN   \n",
      "2          HDMF Nifty 50 Truncated     h16646908 2020-03-16      NaN   \n",
      "3                    HDMF Nifty 50     h16681096 2020-03-16      NaN   \n",
      "4                 HDMF Gold growth  h16681096/79 2020-04-01  14.5209   \n",
      "5                 HDMF Credit Risk     h16681096 2020-03-30      NaN   \n",
      "6            HDMF Top 100 dividend  h16681096/79 2020-03-31  29.9880   \n",
      "7   Bank Nifty Index Motilal Oswal   91014981246 2020-03-18      NaN   \n",
      "8         NASDAQ 100 Motilal Oswal   91014981246 2020-03-23   0.0000   \n",
      "9        Mid Cap 150 Motilal Oswal   91014981246 2020-03-23      NaN   \n",
      "10                  Healthcare DSP      70020887 2020-03-10      NaN   \n",
      "11                     DSP Equity       70020887 2020-03-13      NaN   \n",
      "12          Banking & PSU Debt DSP      70020887 2020-03-13      NaN   \n",
      "13       Franklin US opportunities      22401246 2020-03-13      NaN   \n",
      "14              SBI focused equity      23748883 2020-03-21      NaN   \n",
      "15       SBI banking and financial      23748883 2020-04-04      NaN   \n",
      "16                        SBI Gold      23748883 2020-04-07      NaN   \n",
      "17               Large and mid cap           NaN 2020-02-28      NaN   \n",
      "18                     multi asset           NaN 2020-02-28      NaN   \n",
      "19                       small cap           NaN 2020-02-28      NaN   \n",
      "20                         mid cap           NaN 2020-02-28      NaN   \n",
      "\n",
      "    Unnamed: 9 NAV*Units  Unnamed: 11 Nominee  Unnamed: 13  Unnamed: 14  \n",
      "0        500.0         2          NaN    Mini          500        348.0  \n",
      "1        500.0         0          NaN    Mini          500        475.0  \n",
      "2       1000.0         0          NaN    Mini         1000       1911.0  \n",
      "3       1500.0         0          NaN    Mini         1500       1911.0  \n",
      "4        501.0   501.624          NaN    Mini          501        501.0  \n",
      "5       1500.0         0          NaN    Mini         1500       1911.0  \n",
      "6        500.0    499.99          NaN    Mini          500        510.0  \n",
      "7        500.0         0          NaN    Mini          500        500.0  \n",
      "8        501.0         0          NaN    Mini          501          0.0  \n",
      "9        502.0         0          NaN    Mini          502          0.0  \n",
      "10       500.0         0          NaN    Mini          500        458.0  \n",
      "11       501.0         0          NaN    Mini          501        459.0  \n",
      "12       502.0         0          NaN    Mini          502        499.0  \n",
      "13       501.0  00:00:00          NaN    Mini          501        459.0  \n",
      "14       500.0         0          NaN    Mini          500          0.0  \n",
      "15         NaN         0          NaN    Mini            0          0.0  \n",
      "16         NaN         0          NaN    Mini            0          0.0  \n",
      "17       500.0       NaN          NaN     NaN            0          NaN  \n",
      "18       500.0       NaN          NaN     NaN            0          NaN  \n",
      "19         NaN       NaN          NaN     NaN            0          NaN  \n",
      "20         NaN       NaN          NaN     NaN            0          NaN  \n"
     ]
    }
   ],
   "source": [
    "dforiginal = pd.read_excel(excel3)\n",
    "print(dforiginal)"
   ]
  },
  {
   "cell_type": "code",
   "execution_count": null,
   "metadata": {},
   "outputs": [],
   "source": []
  }
 ],
 "metadata": {
  "kernelspec": {
   "display_name": "Python 3",
   "language": "python",
   "name": "python3"
  },
  "language_info": {
   "codemirror_mode": {
    "name": "ipython",
    "version": 3
   },
   "file_extension": ".py",
   "mimetype": "text/x-python",
   "name": "python",
   "nbconvert_exporter": "python",
   "pygments_lexer": "ipython3",
   "version": "3.7.6"
  }
 },
 "nbformat": 4,
 "nbformat_minor": 4
}
