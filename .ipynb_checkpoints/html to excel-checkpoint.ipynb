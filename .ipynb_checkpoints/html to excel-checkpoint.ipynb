{
 "cells": [
  {
   "cell_type": "code",
   "execution_count": 1,
   "metadata": {},
   "outputs": [],
   "source": [
    "import pandas as pd"
   ]
  },
  {
   "cell_type": "code",
   "execution_count": 2,
   "metadata": {},
   "outputs": [
    {
     "name": "stdout",
     "output_type": "stream",
     "text": [
      "[           Date                                            Scheme    Option  \\\n",
      "0   03-Apr-2020                 Motilal Oswal Focused 25 Fund (D)  Dividend   \n",
      "1   03-Apr-2020                 Motilal Oswal Focused 25 Fund (G)    Growth   \n",
      "2   03-Apr-2020        Motilal Oswal Focused 25 Fund - Direct (D)  Dividend   \n",
      "3   03-Apr-2020        Motilal Oswal Focused 25 Fund - Direct (G)    Growth   \n",
      "4   03-Apr-2020           Motilal Oswal Ultra Short Term Fund (G)    Growth   \n",
      "..          ...                                               ...       ...   \n",
      "61  03-Apr-2020     Motilal Oswal Large and Midcap Fund - Dir (D)  Dividend   \n",
      "62  03-Apr-2020        Motilal Oswal Nifty Next 50 Index Fund (G)    Growth   \n",
      "63  03-Apr-2020  Motilal Oswal Nifty Next 50 Index Fund - Dir (G)    Growth   \n",
      "64  03-Apr-2020             Motilal Oswal Nifty 50 Index Fund (G)    Growth   \n",
      "65  03-Apr-2020    Motilal Oswal Nifty 50 Index Fund - Direct (G)    Growth   \n",
      "\n",
      "    NAV(Rs.)  %Chg  \n",
      "0    12.0742 -2.64  \n",
      "1    17.5230 -2.64  \n",
      "2    13.2077 -2.63  \n",
      "3    19.2398 -2.63  \n",
      "4    13.0937  0.06  \n",
      "..       ...   ...  \n",
      "61    7.4520 -3.00  \n",
      "62    7.2360 -1.21  \n",
      "63    7.2495 -1.21  \n",
      "64    6.6620 -2.00  \n",
      "65    6.6698 -2.00  \n",
      "\n",
      "[66 rows x 5 columns]]\n"
     ]
    }
   ],
   "source": [
    "df = pd.read_html(\"https://www.motilaloswalmf.com/nav/latest-nav/motilal-oswal-MOSt-focused-25-fund/MO19233\")\n",
    "print(df)"
   ]
  },
  {
   "cell_type": "code",
   "execution_count": 8,
   "metadata": {},
   "outputs": [
    {
     "ename": "AttributeError",
     "evalue": "'list' object has no attribute 'to_excel'",
     "output_type": "error",
     "traceback": [
      "\u001b[1;31m---------------------------------------------------------------------------\u001b[0m",
      "\u001b[1;31mAttributeError\u001b[0m                            Traceback (most recent call last)",
      "\u001b[1;32m<ipython-input-8-17a34e0eef30>\u001b[0m in \u001b[0;36m<module>\u001b[1;34m\u001b[0m\n\u001b[1;32m----> 1\u001b[1;33m \u001b[0mdf\u001b[0m\u001b[1;33m.\u001b[0m\u001b[0mto_excel\u001b[0m\u001b[1;33m(\u001b[0m\u001b[1;34m'MO_NAV_Apr3.csv'\u001b[0m\u001b[1;33m)\u001b[0m\u001b[1;33m\u001b[0m\u001b[1;33m\u001b[0m\u001b[0m\n\u001b[0m",
      "\u001b[1;31mAttributeError\u001b[0m: 'list' object has no attribute 'to_excel'"
     ]
    }
   ],
   "source": [
    "df.to_excel('MO_NAV_Apr3.csv')"
   ]
  },
  {
   "cell_type": "code",
   "execution_count": null,
   "metadata": {},
   "outputs": [],
   "source": [
    "pip install lxml"
   ]
  },
  {
   "cell_type": "code",
   "execution_count": 1,
   "metadata": {},
   "outputs": [
    {
     "name": "stdout",
     "output_type": "stream",
     "text": [
      "Requirement already satisfied: html5lib in e:\\users\\sr\\anaconda3\\lib\\site-packages (1.0.1)\n",
      "Requirement already satisfied: six>=1.9 in e:\\users\\sr\\anaconda3\\lib\\site-packages (from html5lib) (1.14.0)\n",
      "Requirement already satisfied: webencodings in e:\\users\\sr\\anaconda3\\lib\\site-packages (from html5lib) (0.5.1)\n",
      "Note: you may need to restart the kernel to use updated packages.\n"
     ]
    }
   ],
   "source": [
    "pip install html5lib\n"
   ]
  },
  {
   "cell_type": "code",
   "execution_count": 2,
   "metadata": {},
   "outputs": [],
   "source": [
    "import pandas as pd\n",
    "from pandas import read_html\n",
    "import html5lib"
   ]
  },
  {
   "cell_type": "code",
   "execution_count": 6,
   "metadata": {},
   "outputs": [],
   "source": [
    "url = \"https://www.moneycontrol.com/mutual-funds/performance-tracker/returns/large-cap-fund.html\""
   ]
  },
  {
   "cell_type": "code",
   "execution_count": 7,
   "metadata": {},
   "outputs": [],
   "source": [
    "tables_list = pd.io.html.read_html(url)"
   ]
  },
  {
   "cell_type": "code",
   "execution_count": 8,
   "metadata": {},
   "outputs": [
    {
     "name": "stdout",
     "output_type": "stream",
     "text": [
      "[                                          Scheme Name  ...    10Y\n",
      "0   Sundaram Top 100 - Series VII - Regular Plan -...  ...      -\n",
      "1   Sundaram Top 100 - Series VII - Regular Plan -...  ...      -\n",
      "2   JM Large Cap Fund - (Direct) - GrowthLarge Cap...  ...      -\n",
      "3            JM Large Cap Fund - GrowthLarge Cap Fund  ...  5.22%\n",
      "4   Axis Bluechip Fund - Direct Plan - GrowthLarge...  ...      -\n",
      "..                                                ...  ...    ...\n",
      "60  Franklin India Bluechip Fund - GrowthLarge Cap...  ...  5.11%\n",
      "61  HDFC Top 100 Fund - Direct Plan - GrowthLarge ...  ...      -\n",
      "62           HDFC Top 100 Fund - GrowthLarge Cap Fund  ...  5.90%\n",
      "63  Nippon India Large Cap Fund - Direct Plan - Gr...  ...      -\n",
      "64  Nippon India Large Cap Fund - GrowthLarge Cap ...  ...  6.92%\n",
      "\n",
      "[65 rows x 13 columns]]\n"
     ]
    }
   ],
   "source": [
    "print(tables_list)"
   ]
  },
  {
   "cell_type": "code",
   "execution_count": 9,
   "metadata": {},
   "outputs": [
    {
     "name": "stdout",
     "output_type": "stream",
     "text": [
      "[           Date  ...  %Chg\n",
      "0   03-Apr-2020  ... -2.64\n",
      "1   03-Apr-2020  ... -2.64\n",
      "2   03-Apr-2020  ... -2.63\n",
      "3   03-Apr-2020  ... -2.63\n",
      "4   03-Apr-2020  ...  0.06\n",
      "..          ...  ...   ...\n",
      "61  03-Apr-2020  ... -3.00\n",
      "62  03-Apr-2020  ... -1.21\n",
      "63  03-Apr-2020  ... -1.21\n",
      "64  03-Apr-2020  ... -2.00\n",
      "65  03-Apr-2020  ... -2.00\n",
      "\n",
      "[66 rows x 5 columns]]\n"
     ]
    }
   ],
   "source": [
    "url2 = \"https://www.motilaloswalmf.com/nav/latest-nav/motilal-oswal-MOSt-focused-25-fund/MO19233\"\n",
    "tables_list2 = pd.io.html.read_html(url2)\n",
    "print(tables_list2)"
   ]
  },
  {
   "cell_type": "code",
   "execution_count": null,
   "metadata": {},
   "outputs": [],
   "source": []
  }
 ],
 "metadata": {
  "kernelspec": {
   "display_name": "Python 3",
   "language": "python",
   "name": "python3"
  },
  "language_info": {
   "codemirror_mode": {
    "name": "ipython",
    "version": 3
   },
   "file_extension": ".py",
   "mimetype": "text/x-python",
   "name": "python",
   "nbconvert_exporter": "python",
   "pygments_lexer": "ipython3",
   "version": "3.7.6"
  }
 },
 "nbformat": 4,
 "nbformat_minor": 4
}
