{
 "cells": [
  {
   "cell_type": "code",
   "execution_count": 1,
   "metadata": {},
   "outputs": [],
   "source": [
    "#pip install NSEpy"
   ]
  },
  {
   "cell_type": "code",
   "execution_count": 2,
   "metadata": {},
   "outputs": [],
   "source": [
    "#pip install nsetools"
   ]
  },
  {
   "cell_type": "code",
   "execution_count": 3,
   "metadata": {},
   "outputs": [],
   "source": [
    "from nsepy import get_history\n",
    "from datetime import date\n",
    "import matplotlib.pyplot as plt\n",
    "import pandas as pd"
   ]
  },
  {
   "cell_type": "code",
   "execution_count": 4,
   "metadata": {},
   "outputs": [],
   "source": [
    "from nsetools import Nse"
   ]
  },
  {
   "cell_type": "code",
   "execution_count": 5,
   "metadata": {},
   "outputs": [
    {
     "name": "stdout",
     "output_type": "stream",
     "text": [
      "Driver Class for National Stock Exchange (NSE)\n"
     ]
    }
   ],
   "source": [
    "nse = Nse()\n",
    "print(nse)"
   ]
  },
  {
   "cell_type": "code",
   "execution_count": 6,
   "metadata": {},
   "outputs": [
    {
     "name": "stdout",
     "output_type": "stream",
     "text": [
      "{'pricebandupper': 205.35, 'symbol': 'SBIN', 'applicableMargin': 35.12, 'bcEndDate': '28-JUN-18', 'totalSellQuantity': None, 'adhocMargin': 13.47, 'companyName': 'State Bank of India', 'marketType': 'N', 'exDate': '15-JUN-18', 'bcStartDate': '19-JUN-18', 'css_status_desc': 'Listed', 'dayHigh': 184.0, 'basePrice': 186.7, 'securityVar': 16.59, 'pricebandlower': 168.05, 'sellQuantity5': None, 'sellQuantity4': None, 'sellQuantity3': None, 'cm_adj_high_dt': '18-JUL-19', 'sellQuantity2': None, 'dayLow': 179.0, 'sellQuantity1': None, 'quantityTraded': 65146846.0, 'pChange': '-3.51', 'totalTradedValue': 118072.14, 'deliveryToTradedQuantity': 32.96, 'totalBuyQuantity': 9937.0, 'averagePrice': 181.24, 'indexVar': None, 'cm_ffm': 68980.55, 'purpose': 'ANNUAL GENERAL MEETING/ CHANGE IN REGISTRAR AND TRANSFER AGENT', 'buyPrice2': None, 'secDate': '24-Apr-2020 00:00:00', 'buyPrice1': 179.75, 'high52': 373.8, 'previousClose': 186.7, 'ndEndDate': None, 'low52': 173.55, 'buyPrice4': None, 'buyPrice3': None, 'recordDate': None, 'deliveryQuantity': 21469774.0, 'buyPrice5': None, 'priceBand': 'No Band', 'extremeLossMargin': 5.06, 'cm_adj_low_dt': '24-MAR-20', 'varMargin': 16.59, 'sellPrice1': None, 'sellPrice2': None, 'totalTradedVolume': 65146846.0, 'sellPrice3': None, 'sellPrice4': None, 'sellPrice5': None, 'change': '-6.55', 'surv_indicator': None, 'ndStartDate': None, 'buyQuantity4': None, 'isExDateFlag': False, 'buyQuantity3': None, 'buyQuantity2': None, 'buyQuantity1': 9937.0, 'series': 'EQ', 'faceValue': 1.0, 'buyQuantity5': None, 'closePrice': 179.75, 'open': 184.0, 'isinCode': 'INE062A01020', 'lastPrice': 180.15}\n",
      "<class 'dict'>\n",
      "179.75\n"
     ]
    }
   ],
   "source": [
    "q = nse.get_quote('sbin')\n",
    "print(q)\n",
    "print(type(q))\n",
    "print(q[\"closePrice\"])"
   ]
  },
  {
   "cell_type": "code",
   "execution_count": 7,
   "metadata": {},
   "outputs": [
    {
     "name": "stdout",
     "output_type": "stream",
     "text": [
      "{'adhocMargin': 13.47,\n",
      " 'applicableMargin': 35.12,\n",
      " 'averagePrice': 181.24,\n",
      " 'basePrice': 186.7,\n",
      " 'bcEndDate': '28-JUN-18',\n",
      " 'bcStartDate': '19-JUN-18',\n",
      " 'buyPrice1': 179.75,\n",
      " 'buyPrice2': None,\n",
      " 'buyPrice3': None,\n",
      " 'buyPrice4': None,\n",
      " 'buyPrice5': None,\n",
      " 'buyQuantity1': 9937.0,\n",
      " 'buyQuantity2': None,\n",
      " 'buyQuantity3': None,\n",
      " 'buyQuantity4': None,\n",
      " 'buyQuantity5': None,\n",
      " 'change': '-6.55',\n",
      " 'closePrice': 179.75,\n",
      " 'cm_adj_high_dt': '18-JUL-19',\n",
      " 'cm_adj_low_dt': '24-MAR-20',\n",
      " 'cm_ffm': 68980.55,\n",
      " 'companyName': 'State Bank of India',\n",
      " 'css_status_desc': 'Listed',\n",
      " 'dayHigh': 184.0,\n",
      " 'dayLow': 179.0,\n",
      " 'deliveryQuantity': 21469774.0,\n",
      " 'deliveryToTradedQuantity': 32.96,\n",
      " 'exDate': '15-JUN-18',\n",
      " 'extremeLossMargin': 5.06,\n",
      " 'faceValue': 1.0,\n",
      " 'high52': 373.8,\n",
      " 'indexVar': None,\n",
      " 'isExDateFlag': False,\n",
      " 'isinCode': 'INE062A01020',\n",
      " 'lastPrice': 180.15,\n",
      " 'low52': 173.55,\n",
      " 'marketType': 'N',\n",
      " 'ndEndDate': None,\n",
      " 'ndStartDate': None,\n",
      " 'open': 184.0,\n",
      " 'pChange': '-3.51',\n",
      " 'previousClose': 186.7,\n",
      " 'priceBand': 'No Band',\n",
      " 'pricebandlower': 168.05,\n",
      " 'pricebandupper': 205.35,\n",
      " 'purpose': 'ANNUAL GENERAL MEETING/ CHANGE IN REGISTRAR AND TRANSFER AGENT',\n",
      " 'quantityTraded': 65146846.0,\n",
      " 'recordDate': None,\n",
      " 'secDate': '24-Apr-2020 00:00:00',\n",
      " 'securityVar': 16.59,\n",
      " 'sellPrice1': None,\n",
      " 'sellPrice2': None,\n",
      " 'sellPrice3': None,\n",
      " 'sellPrice4': None,\n",
      " 'sellPrice5': None,\n",
      " 'sellQuantity1': None,\n",
      " 'sellQuantity2': None,\n",
      " 'sellQuantity3': None,\n",
      " 'sellQuantity4': None,\n",
      " 'sellQuantity5': None,\n",
      " 'series': 'EQ',\n",
      " 'surv_indicator': None,\n",
      " 'symbol': 'SBIN',\n",
      " 'totalBuyQuantity': 9937.0,\n",
      " 'totalSellQuantity': None,\n",
      " 'totalTradedValue': 118072.14,\n",
      " 'totalTradedVolume': 65146846.0,\n",
      " 'varMargin': 16.59}\n"
     ]
    }
   ],
   "source": [
    "from pprint import pprint\n",
    "pprint(q)"
   ]
  },
  {
   "cell_type": "code",
   "execution_count": 8,
   "metadata": {},
   "outputs": [
    {
     "name": "stdout",
     "output_type": "stream",
     "text": [
      "pricebandupperr205.35\n",
      "symbolrSBIN\n",
      "applicableMarginr35.12\n",
      "bcEndDater28-JUN-18\n",
      "totalSellQuantityrNone\n",
      "adhocMarginr13.47\n",
      "companyNamerState Bank of India\n",
      "marketTyperN\n",
      "exDater15-JUN-18\n",
      "bcStartDater19-JUN-18\n",
      "css_status_descrListed\n",
      "dayHighr184.0\n",
      "basePricer186.7\n",
      "securityVarr16.59\n",
      "pricebandlowerr168.05\n",
      "sellQuantity5rNone\n",
      "sellQuantity4rNone\n",
      "sellQuantity3rNone\n",
      "cm_adj_high_dtr18-JUL-19\n",
      "sellQuantity2rNone\n",
      "dayLowr179.0\n",
      "sellQuantity1rNone\n",
      "quantityTradedr65146846.0\n",
      "pChanger-3.51\n",
      "totalTradedValuer118072.14\n",
      "deliveryToTradedQuantityr32.96\n",
      "totalBuyQuantityr9937.0\n",
      "averagePricer181.24\n",
      "indexVarrNone\n",
      "cm_ffmr68980.55\n",
      "purposerANNUAL GENERAL MEETING/ CHANGE IN REGISTRAR AND TRANSFER AGENT\n",
      "buyPrice2rNone\n",
      "secDater24-Apr-2020 00:00:00\n",
      "buyPrice1r179.75\n",
      "high52r373.8\n",
      "previousCloser186.7\n",
      "ndEndDaterNone\n",
      "low52r173.55\n",
      "buyPrice4rNone\n",
      "buyPrice3rNone\n",
      "recordDaterNone\n",
      "deliveryQuantityr21469774.0\n",
      "buyPrice5rNone\n",
      "priceBandrNo Band\n",
      "extremeLossMarginr5.06\n",
      "cm_adj_low_dtr24-MAR-20\n",
      "varMarginr16.59\n",
      "sellPrice1rNone\n",
      "sellPrice2rNone\n",
      "totalTradedVolumer65146846.0\n",
      "sellPrice3rNone\n",
      "sellPrice4rNone\n",
      "sellPrice5rNone\n",
      "changer-6.55\n",
      "surv_indicatorrNone\n",
      "ndStartDaterNone\n",
      "buyQuantity4rNone\n",
      "isExDateFlagrFalse\n",
      "buyQuantity3rNone\n",
      "buyQuantity2rNone\n",
      "buyQuantity1r9937.0\n",
      "seriesrEQ\n",
      "faceValuer1.0\n",
      "buyQuantity5rNone\n",
      "closePricer179.75\n",
      "openr184.0\n",
      "isinCoderINE062A01020\n",
      "lastPricer180.15\n"
     ]
    }
   ],
   "source": [
    "for key in q:\n",
    "    print(key,q[key], sep ='r')\n",
    "    df = {\"Parameter\": key, \"Value\" : q[key] }"
   ]
  },
  {
   "cell_type": "code",
   "execution_count": 9,
   "metadata": {},
   "outputs": [
    {
     "name": "stdout",
     "output_type": "stream",
     "text": [
      "<class 'dict'>\n",
      "{'Parameter': 'lastPrice', 'Value': 180.15}\n"
     ]
    }
   ],
   "source": [
    "print(type(df))\n",
    "print(df)"
   ]
  },
  {
   "cell_type": "code",
   "execution_count": 10,
   "metadata": {},
   "outputs": [],
   "source": [
    "#from pandas import Dataframe"
   ]
  },
  {
   "cell_type": "code",
   "execution_count": 12,
   "metadata": {},
   "outputs": [],
   "source": [
    " #pd.DataFrame.from_dict(q,orient = 'columns')"
   ]
  },
  {
   "cell_type": "code",
   "execution_count": 13,
   "metadata": {},
   "outputs": [],
   "source": [
    "data = get_history(symbol = 'infy', start = date(2020,4,1), end = date(2020,4,23))"
   ]
  },
  {
   "cell_type": "code",
   "execution_count": 14,
   "metadata": {},
   "outputs": [
    {
     "name": "stdout",
     "output_type": "stream",
     "text": [
      "<class 'pandas.core.frame.DataFrame'>\n",
      "           Symbol Series  Prev Close    Open    High     Low    Last   Close  \\\n",
      "Date                                                                           \n",
      "2020-04-01   INFY     EQ      641.50  634.35  637.50  594.00  603.90  602.80   \n",
      "2020-04-03   INFY     EQ      602.80  603.50  606.00  582.15  588.50  585.70   \n",
      "2020-04-07   INFY     EQ      585.70  615.00  644.25  612.90  633.80  639.00   \n",
      "2020-04-08   INFY     EQ      639.00  630.00  655.65  626.35  632.25  631.60   \n",
      "2020-04-09   INFY     EQ      631.60  646.80  652.80  632.10  635.60  636.25   \n",
      "2020-04-13   INFY     EQ      636.25  629.00  651.70  626.05  637.00  637.40   \n",
      "2020-04-15   INFY     EQ      637.40  651.40  653.30  635.60  640.00  639.05   \n",
      "2020-04-16   INFY     EQ      639.05  619.95  634.90  603.50  626.90  623.85   \n",
      "2020-04-17   INFY     EQ      623.85  644.00  646.00  626.00  634.20  628.75   \n",
      "2020-04-20   INFY     EQ      628.75  640.00  661.00  639.00  650.95  653.30   \n",
      "2020-04-21   INFY     EQ      653.30  627.80  646.50  627.80  633.00  633.20   \n",
      "2020-04-22   INFY     EQ      633.20  633.20  645.00  628.05  641.50  641.85   \n",
      "2020-04-23   INFY     EQ      641.85  647.05  683.65  638.10  675.00  679.30   \n",
      "\n",
      "              VWAP    Volume      Turnover  Trades  Deliverable Volume  \\\n",
      "Date                                                                     \n",
      "2020-04-01  611.89  13083865  8.005888e+14  379235             6575764   \n",
      "2020-04-03  592.53  10221890  6.056726e+14  261228             4711571   \n",
      "2020-04-07  627.65  15146526  9.506715e+14  260480             8846122   \n",
      "2020-04-08  637.44  11806901  7.526162e+14  235881             5570288   \n",
      "2020-04-09  640.28  11931287  7.639339e+14  232901             6022789   \n",
      "2020-04-13  641.21   8330291  5.341426e+14  232090             3845112   \n",
      "2020-04-15  645.85  11963493  7.726657e+14  278339             7111564   \n",
      "2020-04-16  620.50  17783310  1.103451e+15  254606             9056129   \n",
      "2020-04-17  633.50   8878372  5.624423e+14  220448             4596958   \n",
      "2020-04-20  653.71  13322995  8.709345e+14  220363             4044244   \n",
      "2020-04-21  638.34  11660678  7.443525e+14  195803             4120383   \n",
      "2020-04-22  639.85   8267159  5.289759e+14  148917             3705627   \n",
      "2020-04-23  665.09  14451294  9.611441e+14  225884             5794675   \n",
      "\n",
      "            %Deliverble  \n",
      "Date                     \n",
      "2020-04-01       0.5026  \n",
      "2020-04-03       0.4609  \n",
      "2020-04-07       0.5840  \n",
      "2020-04-08       0.4718  \n",
      "2020-04-09       0.5048  \n",
      "2020-04-13       0.4616  \n",
      "2020-04-15       0.5944  \n",
      "2020-04-16       0.5092  \n",
      "2020-04-17       0.5178  \n",
      "2020-04-20       0.3036  \n",
      "2020-04-21       0.3534  \n",
      "2020-04-22       0.4482  \n",
      "2020-04-23       0.4010  \n",
      "             Close\n",
      "Date              \n",
      "2020-04-01  602.80\n",
      "2020-04-03  585.70\n",
      "2020-04-07  639.00\n",
      "2020-04-08  631.60\n",
      "2020-04-09  636.25\n",
      "2020-04-13  637.40\n",
      "2020-04-15  639.05\n",
      "2020-04-16  623.85\n",
      "2020-04-17  628.75\n",
      "2020-04-20  653.30\n",
      "2020-04-21  633.20\n",
      "2020-04-22  641.85\n",
      "2020-04-23  679.30\n"
     ]
    }
   ],
   "source": [
    "print(type(data))\n",
    "print(data)\n",
    "print(data[['Close']])"
   ]
  },
  {
   "cell_type": "code",
   "execution_count": 16,
   "metadata": {},
   "outputs": [
    {
     "name": "stdout",
     "output_type": "stream",
     "text": [
      "             Close\n",
      "Date              \n",
      "2020-04-01  602.80\n",
      "2020-04-03  585.70\n",
      "2020-04-07  639.00\n",
      "2020-04-08  631.60\n",
      "2020-04-09  636.25\n",
      "2020-04-13  637.40\n",
      "2020-04-15  639.05\n",
      "2020-04-16  623.85\n",
      "2020-04-17  628.75\n",
      "2020-04-20  653.30\n",
      "2020-04-21  633.20\n",
      "2020-04-22  641.85\n",
      "2020-04-23  679.30\n"
     ]
    }
   ],
   "source": [
    "print(data[['Close']])"
   ]
  },
  {
   "cell_type": "code",
   "execution_count": 17,
   "metadata": {},
   "outputs": [],
   "source": [
    "data = get_history(symbol = 'NIFTY', start = date(2020,4,1), end = date(2020,4,23))"
   ]
  },
  {
   "cell_type": "code",
   "execution_count": 18,
   "metadata": {},
   "outputs": [
    {
     "name": "stdout",
     "output_type": "stream",
     "text": [
      "<class 'pandas.core.frame.DataFrame'>\n",
      "Empty DataFrame\n",
      "Columns: [Symbol, Series, Prev Close, Open, High, Low, Last, Close, VWAP, Volume, Turnover, Trades, Deliverable Volume, %Deliverble]\n",
      "Index: []\n"
     ]
    }
   ],
   "source": [
    "print(type(data))\n",
    "print(data)"
   ]
  },
  {
   "cell_type": "code",
   "execution_count": 19,
   "metadata": {},
   "outputs": [
    {
     "data": {
      "text/plain": [
       "<Figure size 432x288 with 0 Axes>"
      ]
     },
     "metadata": {},
     "output_type": "display_data"
    }
   ],
   "source": [
    "fig = plt.figure()"
   ]
  },
  {
   "cell_type": "code",
   "execution_count": null,
   "metadata": {},
   "outputs": [],
   "source": [
    "pip install quandl"
   ]
  },
  {
   "cell_type": "code",
   "execution_count": 27,
   "metadata": {},
   "outputs": [],
   "source": [
    "import quandl as qunadl"
   ]
  },
  {
   "cell_type": "code",
   "execution_count": 28,
   "metadata": {},
   "outputs": [
    {
     "ename": "NameError",
     "evalue": "name 'quandl' is not defined",
     "output_type": "error",
     "traceback": [
      "\u001b[1;31m---------------------------------------------------------------------------\u001b[0m",
      "\u001b[1;31mNameError\u001b[0m                                 Traceback (most recent call last)",
      "\u001b[1;32m<ipython-input-28-527f1fd514bd>\u001b[0m in \u001b[0;36m<module>\u001b[1;34m\u001b[0m\n\u001b[1;32m----> 1\u001b[1;33m \u001b[0mdata\u001b[0m \u001b[1;33m=\u001b[0m \u001b[0mquandl\u001b[0m\u001b[1;33m.\u001b[0m\u001b[0mget\u001b[0m\u001b[1;33m(\u001b[0m\u001b[1;34m\"EIA/PET_RWTC_D\"\u001b[0m\u001b[1;33m)\u001b[0m\u001b[1;33m\u001b[0m\u001b[1;33m\u001b[0m\u001b[0m\n\u001b[0m",
      "\u001b[1;31mNameError\u001b[0m: name 'quandl' is not defined"
     ]
    }
   ],
   "source": [
    "data = quandl.get(\"EIA/PET_RWTC_D\")"
   ]
  },
  {
   "cell_type": "code",
   "execution_count": 25,
   "metadata": {},
   "outputs": [
    {
     "ename": "NameError",
     "evalue": "name 'quandl' is not defined",
     "output_type": "error",
     "traceback": [
      "\u001b[1;31m---------------------------------------------------------------------------\u001b[0m",
      "\u001b[1;31mNameError\u001b[0m                                 Traceback (most recent call last)",
      "\u001b[1;32m<ipython-input-25-7da51281b4b6>\u001b[0m in \u001b[0;36m<module>\u001b[1;34m\u001b[0m\n\u001b[1;32m----> 1\u001b[1;33m \u001b[0mquandl\u001b[0m\u001b[1;33m.\u001b[0m\u001b[0mApiConfig\u001b[0m\u001b[1;33m.\u001b[0m\u001b[0mapi_key\u001b[0m \u001b[1;33m=\u001b[0m \u001b[1;34m\"FriomdsrjazBpVz5kfNj\"\u001b[0m\u001b[1;33m\u001b[0m\u001b[1;33m\u001b[0m\u001b[0m\n\u001b[0m",
      "\u001b[1;31mNameError\u001b[0m: name 'quandl' is not defined"
     ]
    }
   ],
   "source": [
    "quandl.ApiConfig.api_key = \"YourKey\""
   ]
  },
  {
   "cell_type": "code",
   "execution_count": 20,
   "metadata": {},
   "outputs": [
    {
     "ename": "TypeError",
     "evalue": "cannot unpack non-iterable AxesSubplot object",
     "output_type": "error",
     "traceback": [
      "\u001b[1;31m---------------------------------------------------------------------------\u001b[0m",
      "\u001b[1;31mTypeError\u001b[0m                                 Traceback (most recent call last)",
      "\u001b[1;32m<ipython-input-20-1b7116435043>\u001b[0m in \u001b[0;36m<module>\u001b[1;34m\u001b[0m\n\u001b[1;32m----> 1\u001b[1;33m \u001b[0mfig\u001b[0m\u001b[1;33m,\u001b[0m\u001b[0max\u001b[0m \u001b[1;33m=\u001b[0m \u001b[0mplt\u001b[0m\u001b[1;33m.\u001b[0m\u001b[0msubplot\u001b[0m\u001b[1;33m(\u001b[0m\u001b[1;33m)\u001b[0m\u001b[1;33m\u001b[0m\u001b[1;33m\u001b[0m\u001b[0m\n\u001b[0m",
      "\u001b[1;31mTypeError\u001b[0m: cannot unpack non-iterable AxesSubplot object"
     ]
    },
    {
     "data": {
      "image/png": "[encoded data removed]",
      "text/plain": [
       "<Figure size 432x288 with 1 Axes>"
      ]
     },
     "metadata": {
      "needs_background": "light"
     },
     "output_type": "display_data"
    }
   ],
   "source": [
    "fig,ax = plt.subplot()"
   ]
  },
  {
   "cell_type": "code",
   "execution_count": 21,
   "metadata": {},
   "outputs": [
    {
     "ename": "ValueError",
     "evalue": "Illegal argument(s) to subplot: (2, 2)",
     "output_type": "error",
     "traceback": [
      "\u001b[1;31m---------------------------------------------------------------------------\u001b[0m",
      "\u001b[1;31mValueError\u001b[0m                                Traceback (most recent call last)",
      "\u001b[1;32m<ipython-input-21-6c44c50363d1>\u001b[0m in \u001b[0;36m<module>\u001b[1;34m\u001b[0m\n\u001b[1;32m----> 1\u001b[1;33m \u001b[0mfig\u001b[0m\u001b[1;33m,\u001b[0m\u001b[0maxs\u001b[0m \u001b[1;33m=\u001b[0m \u001b[0mplt\u001b[0m\u001b[1;33m.\u001b[0m\u001b[0msubplot\u001b[0m\u001b[1;33m(\u001b[0m\u001b[1;36m2\u001b[0m\u001b[1;33m,\u001b[0m\u001b[1;36m2\u001b[0m\u001b[1;33m)\u001b[0m\u001b[1;33m\u001b[0m\u001b[1;33m\u001b[0m\u001b[0m\n\u001b[0m",
      "\u001b[1;32mE:\\Users\\SR\\anaconda3\\lib\\site-packages\\matplotlib\\pyplot.py\u001b[0m in \u001b[0;36msubplot\u001b[1;34m(*args, **kwargs)\u001b[0m\n\u001b[0;32m   1074\u001b[0m \u001b[1;33m\u001b[0m\u001b[0m\n\u001b[0;32m   1075\u001b[0m     \u001b[0mfig\u001b[0m \u001b[1;33m=\u001b[0m \u001b[0mgcf\u001b[0m\u001b[1;33m(\u001b[0m\u001b[1;33m)\u001b[0m\u001b[1;33m\u001b[0m\u001b[1;33m\u001b[0m\u001b[0m\n\u001b[1;32m-> 1076\u001b[1;33m     \u001b[0ma\u001b[0m \u001b[1;33m=\u001b[0m \u001b[0mfig\u001b[0m\u001b[1;33m.\u001b[0m\u001b[0madd_subplot\u001b[0m\u001b[1;33m(\u001b[0m\u001b[1;33m*\u001b[0m\u001b[0margs\u001b[0m\u001b[1;33m,\u001b[0m \u001b[1;33m**\u001b[0m\u001b[0mkwargs\u001b[0m\u001b[1;33m)\u001b[0m\u001b[1;33m\u001b[0m\u001b[1;33m\u001b[0m\u001b[0m\n\u001b[0m\u001b[0;32m   1077\u001b[0m     \u001b[0mbbox\u001b[0m \u001b[1;33m=\u001b[0m \u001b[0ma\u001b[0m\u001b[1;33m.\u001b[0m\u001b[0mbbox\u001b[0m\u001b[1;33m\u001b[0m\u001b[1;33m\u001b[0m\u001b[0m\n\u001b[0;32m   1078\u001b[0m     \u001b[0mbyebye\u001b[0m \u001b[1;33m=\u001b[0m \u001b[1;33m[\u001b[0m\u001b[1;33m]\u001b[0m\u001b[1;33m\u001b[0m\u001b[1;33m\u001b[0m\u001b[0m\n",
      "\u001b[1;32mE:\\Users\\SR\\anaconda3\\lib\\site-packages\\matplotlib\\figure.py\u001b[0m in \u001b[0;36madd_subplot\u001b[1;34m(self, *args, **kwargs)\u001b[0m\n\u001b[0;32m   1412\u001b[0m                     \u001b[0mself\u001b[0m\u001b[1;33m.\u001b[0m\u001b[0m_axstack\u001b[0m\u001b[1;33m.\u001b[0m\u001b[0mremove\u001b[0m\u001b[1;33m(\u001b[0m\u001b[0max\u001b[0m\u001b[1;33m)\u001b[0m\u001b[1;33m\u001b[0m\u001b[1;33m\u001b[0m\u001b[0m\n\u001b[0;32m   1413\u001b[0m \u001b[1;33m\u001b[0m\u001b[0m\n\u001b[1;32m-> 1414\u001b[1;33m             \u001b[0ma\u001b[0m \u001b[1;33m=\u001b[0m \u001b[0msubplot_class_factory\u001b[0m\u001b[1;33m(\u001b[0m\u001b[0mprojection_class\u001b[0m\u001b[1;33m)\u001b[0m\u001b[1;33m(\u001b[0m\u001b[0mself\u001b[0m\u001b[1;33m,\u001b[0m \u001b[1;33m*\u001b[0m\u001b[0margs\u001b[0m\u001b[1;33m,\u001b[0m \u001b[1;33m**\u001b[0m\u001b[0mkwargs\u001b[0m\u001b[1;33m)\u001b[0m\u001b[1;33m\u001b[0m\u001b[1;33m\u001b[0m\u001b[0m\n\u001b[0m\u001b[0;32m   1415\u001b[0m \u001b[1;33m\u001b[0m\u001b[0m\n\u001b[0;32m   1416\u001b[0m         \u001b[1;32mreturn\u001b[0m \u001b[0mself\u001b[0m\u001b[1;33m.\u001b[0m\u001b[0m_add_axes_internal\u001b[0m\u001b[1;33m(\u001b[0m\u001b[0mkey\u001b[0m\u001b[1;33m,\u001b[0m \u001b[0ma\u001b[0m\u001b[1;33m)\u001b[0m\u001b[1;33m\u001b[0m\u001b[1;33m\u001b[0m\u001b[0m\n",
      "\u001b[1;32mE:\\Users\\SR\\anaconda3\\lib\\site-packages\\matplotlib\\axes\\_subplots.py\u001b[0m in \u001b[0;36m__init__\u001b[1;34m(self, fig, *args, **kwargs)\u001b[0m\n\u001b[0;32m     62\u001b[0m                 \u001b[1;31m# num - 1 for converting from MATLAB to python indexing\u001b[0m\u001b[1;33m\u001b[0m\u001b[1;33m\u001b[0m\u001b[1;33m\u001b[0m\u001b[0m\n\u001b[0;32m     63\u001b[0m         \u001b[1;32melse\u001b[0m\u001b[1;33m:\u001b[0m\u001b[1;33m\u001b[0m\u001b[1;33m\u001b[0m\u001b[0m\n\u001b[1;32m---> 64\u001b[1;33m             \u001b[1;32mraise\u001b[0m \u001b[0mValueError\u001b[0m\u001b[1;33m(\u001b[0m\u001b[1;34mf'Illegal argument(s) to subplot: {args}'\u001b[0m\u001b[1;33m)\u001b[0m\u001b[1;33m\u001b[0m\u001b[1;33m\u001b[0m\u001b[0m\n\u001b[0m\u001b[0;32m     65\u001b[0m \u001b[1;33m\u001b[0m\u001b[0m\n\u001b[0;32m     66\u001b[0m         \u001b[0mself\u001b[0m\u001b[1;33m.\u001b[0m\u001b[0mupdate_params\u001b[0m\u001b[1;33m(\u001b[0m\u001b[1;33m)\u001b[0m\u001b[1;33m\u001b[0m\u001b[1;33m\u001b[0m\u001b[0m\n",
      "\u001b[1;31mValueError\u001b[0m: Illegal argument(s) to subplot: (2, 2)"
     ]
    },
    {
     "data": {
      "text/plain": [
       "<Figure size 432x288 with 0 Axes>"
      ]
     },
     "metadata": {},
     "output_type": "display_data"
    }
   ],
   "source": [
    "fig,axs = plt.subplot(2,2)"
   ]
  },
  {
   "cell_type": "code",
   "execution_count": null,
   "metadata": {},
   "outputs": [],
   "source": []
  }
 ],
 "metadata": {
  "kernelspec": {
   "display_name": "Python 3",
   "language": "python",
   "name": "python3"
  },
  "language_info": {
   "codemirror_mode": {
    "name": "ipython",
    "version": 3
   },
   "file_extension": ".py",
   "mimetype": "text/x-python",
   "name": "python",
   "nbconvert_exporter": "python",
   "pygments_lexer": "ipython3",
   "version": "3.7.6"
  }
 },
 "nbformat": 4,
 "nbformat_minor": 4
}
