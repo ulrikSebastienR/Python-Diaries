{
 "cells": [
  {
   "cell_type": "code",
   "execution_count": 1,
   "metadata": {},
   "outputs": [],
   "source": [
    "#https://docs.quandl.com/docs/python-time-series\n",
    "import quandl as quandl"
   ]
  },
  {
   "cell_type": "code",
   "execution_count": 3,
   "metadata": {},
   "outputs": [],
   "source": [
    "quandl.ApiConfig.api_key = \"FriomdsrjazBpVz5kfNj\" "
   ]
  },
  {
   "cell_type": "code",
   "execution_count": 4,
   "metadata": {},
   "outputs": [],
   "source": [
    "data = quandl.get(\"EIA/PET_RWTC_D\")"
   ]
  },
  {
   "cell_type": "code",
   "execution_count": 6,
   "metadata": {},
   "outputs": [
    {
     "name": "stdout",
     "output_type": "stream",
     "text": [
      "<class 'pandas.core.frame.DataFrame'>\n",
      "            Value\n",
      "Date             \n",
      "1986-01-02  25.56\n",
      "1986-01-03  26.00\n",
      "1986-01-06  26.53\n",
      "1986-01-07  25.85\n",
      "1986-01-08  25.87\n",
      "...           ...\n",
      "2020-04-14  20.15\n",
      "2020-04-15  19.96\n",
      "2020-04-16  19.82\n",
      "2020-04-17  18.31\n",
      "2020-04-20 -36.98\n",
      "\n",
      "[8664 rows x 1 columns]\n"
     ]
    }
   ],
   "source": [
    "print(type(data))\n",
    "print(data)"
   ]
  },
  {
   "cell_type": "code",
   "execution_count": 11,
   "metadata": {},
   "outputs": [
    {
     "name": "stdout",
     "output_type": "stream",
     "text": [
      "<class 'numpy.recarray'>\n",
      "[('1986-01-02T00:00:00.000000000',  25.56)\n",
      " ('1986-01-03T00:00:00.000000000',  26.  )\n",
      " ('1986-01-06T00:00:00.000000000',  26.53) ...\n",
      " ('2020-04-16T00:00:00.000000000',  19.82)\n",
      " ('2020-04-17T00:00:00.000000000',  18.31)\n",
      " ('2020-04-20T00:00:00.000000000', -36.98)]\n"
     ]
    }
   ],
   "source": [
    "data_n = quandl.get(\"EIA/PET_RWTC_D\", returns = \"numpy\")\n",
    "print(type(data_n))\n",
    "print((data_n))"
   ]
  },
  {
   "cell_type": "code",
   "execution_count": 13,
   "metadata": {},
   "outputs": [
    {
     "name": "stdout",
     "output_type": "stream",
     "text": [
      "<class 'pandas.core.frame.DataFrame'>\n",
      "                Value\n",
      "Date                 \n",
      "2002-01-01  10788.952\n",
      "2002-04-01  10893.207\n",
      "2002-07-01  10992.051\n",
      "2002-10-01  11071.463\n",
      "2003-01-01  11183.507\n",
      "2003-04-01  11312.875\n",
      "2003-07-01  11567.326\n",
      "2003-10-01  11769.275\n",
      "2004-01-01  11920.169\n",
      "2004-04-01  12108.987\n",
      "2004-07-01  12303.340\n",
      "2004-10-01  12522.425\n",
      "2005-01-01  12761.337\n",
      "2005-04-01  12910.022\n",
      "2005-07-01  13142.873\n",
      "2005-10-01  13332.316\n"
     ]
    }
   ],
   "source": [
    "data1 = quandl.get(\"FRED/GDP\", start_date=\"2001-12-31\", end_date=\"2005-12-31\")\n",
    "print(type(data1))\n",
    "print(data1)"
   ]
  },
  {
   "cell_type": "code",
   "execution_count": 7,
   "metadata": {},
   "outputs": [],
   "source": [
    "a = quandl.get(\"AMFI/147006\", authtoken=\"FriomdsrjazBpVz5kfNj\")"
   ]
  },
  {
   "cell_type": "code",
   "execution_count": 8,
   "metadata": {},
   "outputs": [
    {
     "name": "stdout",
     "output_type": "stream",
     "text": [
      "<class 'pandas.core.frame.DataFrame'>\n",
      "            Net Asset Value Repurchase Price Sale Price\n",
      "Date                                                   \n",
      "2019-03-27        1000.1627             None       None\n",
      "2019-03-28        1000.3256             None       None\n",
      "2019-03-29        1000.5031             None       None\n",
      "2019-03-30        1000.6825             None       None\n",
      "2019-03-31        1000.8613             None       None\n",
      "...                     ...              ...        ...\n",
      "2020-04-20        1002.0433             None       None\n",
      "2020-04-21        1002.1328             None       None\n",
      "2020-04-22        1002.2222             None       None\n",
      "2020-04-23        1002.3117             None       None\n",
      "2020-04-24        1002.3818             None       None\n",
      "\n",
      "[296 rows x 3 columns]\n"
     ]
    }
   ],
   "source": [
    "print(type(a))\n",
    "print(a)"
   ]
  },
  {
   "cell_type": "code",
   "execution_count": null,
   "metadata": {},
   "outputs": [],
   "source": []
  }
 ],
 "metadata": {
  "kernelspec": {
   "display_name": "Python 3",
   "language": "python",
   "name": "python3"
  },
  "language_info": {
   "codemirror_mode": {
    "name": "ipython",
    "version": 3
   },
   "file_extension": ".py",
   "mimetype": "text/x-python",
   "name": "python",
   "nbconvert_exporter": "python",
   "pygments_lexer": "ipython3",
   "version": "3.7.6"
  }
 },
 "nbformat": 4,
 "nbformat_minor": 4
}
