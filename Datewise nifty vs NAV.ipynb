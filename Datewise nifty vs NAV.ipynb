{
 "cells": [
  {
   "cell_type": "code",
   "execution_count": 11,
   "metadata": {},
   "outputs": [],
   "source": [
    "import pandas as pd\n",
    "import matplotlib.pyplot as plt"
   ]
  },
  {
   "cell_type": "code",
   "execution_count": 12,
   "metadata": {},
   "outputs": [],
   "source": [
    "#https://www.geeksforgeeks.org/how-to-drop-one-or-multiple-columns-in-pandas-dataframe/"
   ]
  },
  {
   "cell_type": "code",
   "execution_count": 13,
   "metadata": {},
   "outputs": [],
   "source": [
    "df_ch = pd.read_excel(\"NAV Charts Datewise.xlsx\")"
   ]
  },
  {
   "cell_type": "code",
   "execution_count": 14,
   "metadata": {},
   "outputs": [
    {
     "name": "stdout",
     "output_type": "stream",
     "text": [
      "<class 'pandas.core.frame.DataFrame'>\n"
     ]
    }
   ],
   "source": [
    "print(type(df_ch))"
   ]
  },
  {
   "cell_type": "code",
   "execution_count": 15,
   "metadata": {},
   "outputs": [
    {
     "name": "stdout",
     "output_type": "stream",
     "text": [
      "         DATE  Nifty50Close/100  FT US Opportunities  Nifty Index HDFC  \\\n",
      "0  2020-02-17          120.4580              38.2698          111.3793   \n",
      "1  2020-02-18          119.9250              38.3284          110.8858   \n",
      "2  2020-02-19          121.2590              38.5892          112.1205   \n",
      "3  2020-02-20          120.8085              38.3406          111.7028   \n",
      "4  2020-02-24          118.2940              36.6657          109.3795   \n",
      "5  2020-02-25          117.9790              35.5725          109.0858   \n",
      "6  2020-02-26          116.7850              35.4105          107.9784   \n",
      "7  2020-02-27          116.3330              34.0051          107.5600   \n",
      "8  2020-02-28          112.0175              34.3352          103.5673   \n",
      "9  2020-03-02          111.3275              35.7821          102.9426   \n",
      "10 2020-03-03          113.0330              35.1756          104.5640   \n",
      "11 2020-03-04          112.5100              36.6542          104.0793   \n",
      "12 2020-03-05          112.6900              35.4927          104.2607   \n",
      "13 2020-03-06          109.8945              34.9217          101.6803   \n",
      "14 2020-03-09          104.5145              32.4847           96.7058   \n",
      "15 2020-03-11          104.5840              32.3735           96.7671   \n",
      "16 2020-03-12           95.9015              29.9960           88.7485   \n",
      "17 2020-03-13           99.5520              32.1910           92.2457   \n",
      "18 2020-03-16           91.9740              28.6586           85.1184   \n",
      "19 2020-03-17           89.6705              30.0458           82.9173   \n",
      "20 2020-03-18           84.6880              28.5819           78.2757   \n",
      "21 2020-03-19           82.6345              29.5145           76.4201   \n",
      "22 2020-03-20           87.4545              28.3566           80.8520   \n",
      "23 2020-03-23           76.1025              28.2084           70.4465   \n",
      "24 2020-03-24           78.0105              30.7839           72.2349   \n",
      "25 2020-03-25           83.1785              31.0765           76.9126   \n",
      "26 2020-03-26           86.4145              32.3971           79.8387   \n",
      "27 2020-03-27           86.6025              31.1881           79.9958   \n",
      "28 2020-03-30           82.8110              32.4055           76.5205   \n",
      "29 2020-03-31           85.9775              31.8446           79.4445   \n",
      "30 2020-04-01           82.5380              30.4371           76.2639   \n",
      "31 2020-04-03           80.8380              30.7434           74.6923   \n",
      "32 2020-04-07           87.9220              32.5119           81.1940   \n",
      "33 2020-04-08           87.4875              34.1080           80.7948   \n",
      "34 2020-04-09           91.1190              34.4277           84.1302   \n",
      "\n",
      "    Top 100 D HDFC  \n",
      "0           49.869  \n",
      "1           49.825  \n",
      "2           50.473  \n",
      "3           50.511  \n",
      "4           49.358  \n",
      "5           49.214  \n",
      "6           48.666  \n",
      "7           48.339  \n",
      "8           46.505  \n",
      "9           46.038  \n",
      "10          46.937  \n",
      "11          46.699  \n",
      "12          46.622  \n",
      "13          39.649  \n",
      "14          37.715  \n",
      "15          37.479  \n",
      "16          33.975  \n",
      "17          35.772  \n",
      "18          33.146  \n",
      "19          32.437  \n",
      "20          31.211  \n",
      "21          30.265  \n",
      "22          31.811  \n",
      "23          27.967  \n",
      "24          28.397  \n",
      "25          29.683  \n",
      "26          30.651  \n",
      "27          31.004  \n",
      "28          29.988  \n",
      "29          31.390  \n",
      "30          30.268  \n",
      "31          29.887  \n",
      "32          31.930  \n",
      "33          31.826  \n",
      "34          33.022  \n"
     ]
    }
   ],
   "source": [
    "print(df_ch)"
   ]
  },
  {
   "cell_type": "code",
   "execution_count": 16,
   "metadata": {},
   "outputs": [],
   "source": [
    "df_ch1 = df_ch.set_index(\"DATE\") # Set Index to Date as we want to plot everything against date as x-axis"
   ]
  },
  {
   "cell_type": "code",
   "execution_count": 17,
   "metadata": {},
   "outputs": [
    {
     "name": "stdout",
     "output_type": "stream",
     "text": [
      "            Nifty50Close/100  FT US Opportunities  Nifty Index HDFC  \\\n",
      "DATE                                                                  \n",
      "2020-02-17          120.4580              38.2698          111.3793   \n",
      "2020-02-18          119.9250              38.3284          110.8858   \n",
      "2020-02-19          121.2590              38.5892          112.1205   \n",
      "2020-02-20          120.8085              38.3406          111.7028   \n",
      "2020-02-24          118.2940              36.6657          109.3795   \n",
      "2020-02-25          117.9790              35.5725          109.0858   \n",
      "2020-02-26          116.7850              35.4105          107.9784   \n",
      "2020-02-27          116.3330              34.0051          107.5600   \n",
      "2020-02-28          112.0175              34.3352          103.5673   \n",
      "2020-03-02          111.3275              35.7821          102.9426   \n",
      "2020-03-03          113.0330              35.1756          104.5640   \n",
      "2020-03-04          112.5100              36.6542          104.0793   \n",
      "2020-03-05          112.6900              35.4927          104.2607   \n",
      "2020-03-06          109.8945              34.9217          101.6803   \n",
      "2020-03-09          104.5145              32.4847           96.7058   \n",
      "2020-03-11          104.5840              32.3735           96.7671   \n",
      "2020-03-12           95.9015              29.9960           88.7485   \n",
      "2020-03-13           99.5520              32.1910           92.2457   \n",
      "2020-03-16           91.9740              28.6586           85.1184   \n",
      "2020-03-17           89.6705              30.0458           82.9173   \n",
      "2020-03-18           84.6880              28.5819           78.2757   \n",
      "2020-03-19           82.6345              29.5145           76.4201   \n",
      "2020-03-20           87.4545              28.3566           80.8520   \n",
      "2020-03-23           76.1025              28.2084           70.4465   \n",
      "2020-03-24           78.0105              30.7839           72.2349   \n",
      "2020-03-25           83.1785              31.0765           76.9126   \n",
      "2020-03-26           86.4145              32.3971           79.8387   \n",
      "2020-03-27           86.6025              31.1881           79.9958   \n",
      "2020-03-30           82.8110              32.4055           76.5205   \n",
      "2020-03-31           85.9775              31.8446           79.4445   \n",
      "2020-04-01           82.5380              30.4371           76.2639   \n",
      "2020-04-03           80.8380              30.7434           74.6923   \n",
      "2020-04-07           87.9220              32.5119           81.1940   \n",
      "2020-04-08           87.4875              34.1080           80.7948   \n",
      "2020-04-09           91.1190              34.4277           84.1302   \n",
      "\n",
      "            Top 100 D HDFC  \n",
      "DATE                        \n",
      "2020-02-17          49.869  \n",
      "2020-02-18          49.825  \n",
      "2020-02-19          50.473  \n",
      "2020-02-20          50.511  \n",
      "2020-02-24          49.358  \n",
      "2020-02-25          49.214  \n",
      "2020-02-26          48.666  \n",
      "2020-02-27          48.339  \n",
      "2020-02-28          46.505  \n",
      "2020-03-02          46.038  \n",
      "2020-03-03          46.937  \n",
      "2020-03-04          46.699  \n",
      "2020-03-05          46.622  \n",
      "2020-03-06          39.649  \n",
      "2020-03-09          37.715  \n",
      "2020-03-11          37.479  \n",
      "2020-03-12          33.975  \n",
      "2020-03-13          35.772  \n",
      "2020-03-16          33.146  \n",
      "2020-03-17          32.437  \n",
      "2020-03-18          31.211  \n",
      "2020-03-19          30.265  \n",
      "2020-03-20          31.811  \n",
      "2020-03-23          27.967  \n",
      "2020-03-24          28.397  \n",
      "2020-03-25          29.683  \n",
      "2020-03-26          30.651  \n",
      "2020-03-27          31.004  \n",
      "2020-03-30          29.988  \n",
      "2020-03-31          31.390  \n",
      "2020-04-01          30.268  \n",
      "2020-04-03          29.887  \n",
      "2020-04-07          31.930  \n",
      "2020-04-08          31.826  \n",
      "2020-04-09          33.022  \n"
     ]
    }
   ],
   "source": [
    "print(df_ch1)"
   ]
  },
  {
   "cell_type": "code",
   "execution_count": 18,
   "metadata": {},
   "outputs": [
    {
     "data": {
      "image/png": "[encoded data removed]",
      "text/plain": [
       "<Figure size 432x288 with 1 Axes>"
      ]
     },
     "metadata": {
      "needs_background": "light"
     },
     "output_type": "display_data"
    }
   ],
   "source": [
    "ax = df_ch1.plot()"
   ]
  },
  {
   "cell_type": "code",
   "execution_count": 19,
   "metadata": {},
   "outputs": [
    {
     "data": {
      "text/plain": [
       "<matplotlib.axes._subplots.AxesSubplot at 0x9477c88>"
      ]
     },
     "execution_count": 19,
     "metadata": {},
     "output_type": "execute_result"
    },
    {
     "data": {
      "image/png": "[encoded data removed]",
      "text/plain": [
       "<Figure size 432x288 with 1 Axes>"
      ]
     },
     "metadata": {
      "needs_background": "light"
     },
     "output_type": "display_data"
    }
   ],
   "source": [
    "df_ch1.plot(kind = 'bar')"
   ]
  },
  {
   "cell_type": "code",
   "execution_count": 20,
   "metadata": {},
   "outputs": [
    {
     "ename": "NameError",
     "evalue": "name 'DATE' is not defined",
     "output_type": "error",
     "traceback": [
      "\u001b[1;31m---------------------------------------------------------------------------\u001b[0m",
      "\u001b[1;31mNameError\u001b[0m                                 Traceback (most recent call last)",
      "\u001b[1;32m<ipython-input-20-f76002ccf4ae>\u001b[0m in \u001b[0;36m<module>\u001b[1;34m\u001b[0m\n\u001b[0;32m      3\u001b[0m \u001b[0mstart\u001b[0m\u001b[1;33m,\u001b[0m \u001b[0mend\u001b[0m \u001b[1;33m=\u001b[0m \u001b[0max\u001b[0m\u001b[1;33m.\u001b[0m\u001b[0mget_xlim\u001b[0m\u001b[1;33m(\u001b[0m\u001b[1;33m)\u001b[0m\u001b[1;33m\u001b[0m\u001b[1;33m\u001b[0m\u001b[0m\n\u001b[0;32m      4\u001b[0m \u001b[0max\u001b[0m\u001b[1;33m.\u001b[0m\u001b[0mxaxis\u001b[0m\u001b[1;33m.\u001b[0m\u001b[0mset_ticks\u001b[0m\u001b[1;33m(\u001b[0m\u001b[0mnp\u001b[0m\u001b[1;33m.\u001b[0m\u001b[0marange\u001b[0m\u001b[1;33m(\u001b[0m\u001b[0mstart\u001b[0m\u001b[1;33m,\u001b[0m \u001b[0mend\u001b[0m\u001b[1;33m,\u001b[0m \u001b[1;36m1\u001b[0m\u001b[1;33m)\u001b[0m\u001b[1;33m)\u001b[0m\u001b[1;33m\u001b[0m\u001b[1;33m\u001b[0m\u001b[0m\n\u001b[1;32m----> 5\u001b[1;33m \u001b[0max\u001b[0m\u001b[1;33m.\u001b[0m\u001b[0mxaxis\u001b[0m\u001b[1;33m.\u001b[0m\u001b[0mset_major_formatter\u001b[0m\u001b[1;33m(\u001b[0m\u001b[0mDATE\u001b[0m\u001b[1;33m.\u001b[0m\u001b[0mFormatStrFormatter\u001b[0m\u001b[1;33m(\u001b[0m\u001b[1;34m'%0.1f'\u001b[0m\u001b[1;33m)\u001b[0m\u001b[1;33m)\u001b[0m\u001b[1;33m\u001b[0m\u001b[1;33m\u001b[0m\u001b[0m\n\u001b[0m\u001b[0;32m      6\u001b[0m \u001b[0mplt\u001b[0m\u001b[1;33m.\u001b[0m\u001b[0mshow\u001b[0m\u001b[1;33m(\u001b[0m\u001b[1;33m)\u001b[0m\u001b[1;33m\u001b[0m\u001b[1;33m\u001b[0m\u001b[0m\n",
      "\u001b[1;31mNameError\u001b[0m: name 'DATE' is not defined"
     ]
    }
   ],
   "source": [
    "# this method to change ticks on X-axis didn't work.\n",
    "import numpy as np\n",
    "start, end = ax.get_xlim()\n",
    "ax.xaxis.set_ticks(np.arange(start, end, 1))\n",
    "ax.xaxis.set_major_formatter(DATE.FormatStrFormatter('%0.1f'))\n",
    "plt.show()"
   ]
  },
  {
   "cell_type": "code",
   "execution_count": null,
   "metadata": {},
   "outputs": [],
   "source": [
    "df_ft = pd.read_csv(\"FTUSOpportunities1.csv\", delimiter = ';', skiprows = 0, header = 2, index_col = [0,1,2,3,4,5,6])"
   ]
  },
  {
   "cell_type": "code",
   "execution_count": null,
   "metadata": {},
   "outputs": [],
   "source": [
    "#after this cell are the attempts made to automate the process which I still need to work upon"
   ]
  },
  {
   "cell_type": "code",
   "execution_count": null,
   "metadata": {},
   "outputs": [],
   "source": [
    "print(df_ft)\n",
    "print(type(df_ft))"
   ]
  },
  {
   "cell_type": "code",
   "execution_count": null,
   "metadata": {},
   "outputs": [],
   "source": [
    "for col in df_ft:\n",
    "    print(col)"
   ]
  },
  {
   "cell_type": "code",
   "execution_count": null,
   "metadata": {},
   "outputs": [],
   "source": [
    "df_ft.drop(columns = 0, inplace = True, axis = 1)\n",
    "print(df_ft)"
   ]
  },
  {
   "cell_type": "code",
   "execution_count": null,
   "metadata": {},
   "outputs": [],
   "source": [
    "df_ft.to_excel(\"ft_us.xlsx\")"
   ]
  },
  {
   "cell_type": "code",
   "execution_count": null,
   "metadata": {},
   "outputs": [],
   "source": [
    "ft_us = pd.read_excel(\"ft_us.xlsx\")"
   ]
  },
  {
   "cell_type": "code",
   "execution_count": null,
   "metadata": {},
   "outputs": [],
   "source": [
    "print(ft_us)"
   ]
  },
  {
   "cell_type": "code",
   "execution_count": null,
   "metadata": {},
   "outputs": [],
   "source": [
    "pip install pandas-datareader"
   ]
  },
  {
   "cell_type": "code",
   "execution_count": 21,
   "metadata": {},
   "outputs": [
    {
     "name": "stdout",
     "output_type": "stream",
     "text": [
      "Requirement already satisfied: beautifulsoup4 in e:\\users\\sr\\anaconda3\\lib\\site-packages (4.8.2)\n",
      "Requirement already satisfied: soupsieve>=1.2 in e:\\users\\sr\\anaconda3\\lib\\site-packages (from beautifulsoup4) (1.9.5)\n",
      "Note: you may need to restart the kernel to use updated packages.\n"
     ]
    }
   ],
   "source": [
    "pip install beautifulsoup4"
   ]
  },
  {
   "cell_type": "code",
   "execution_count": null,
   "metadata": {},
   "outputs": [],
   "source": []
  }
 ],
 "metadata": {
  "kernelspec": {
   "display_name": "Python 3",
   "language": "python",
   "name": "python3"
  },
  "language_info": {
   "codemirror_mode": {
    "name": "ipython",
    "version": 3
   },
   "file_extension": ".py",
   "mimetype": "text/x-python",
   "name": "python",
   "nbconvert_exporter": "python",
   "pygments_lexer": "ipython3",
   "version": "3.7.6"
  }
 },
 "nbformat": 4,
 "nbformat_minor": 4
}
